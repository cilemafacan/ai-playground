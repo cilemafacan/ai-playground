{
 "cells": [
  {
   "cell_type": "markdown",
   "metadata": {},
   "source": [
    "MagicMix Community Example\n",
    "\n",
    "Cok vurucu sonuclar alinmadi"
   ]
  },
  {
   "cell_type": "code",
   "execution_count": null,
   "metadata": {},
   "outputs": [],
   "source": [
    "import torch\n",
    "from diffusers import StableDiffusionPipeline\n",
    "from PIL import Image\n",
    "\n",
    "models = [\"runwayml/stable-diffusion-v1-5\"]\n",
    "device = \"cuda\""
   ]
  },
  {
   "cell_type": "code",
   "execution_count": null,
   "metadata": {},
   "outputs": [],
   "source": [
    "img = Image.open('../1_media/input_images/cat.jpg')"
   ]
  },
  {
   "cell_type": "markdown",
   "metadata": {},
   "source": [
    "Normal Img2Img pipeline\n",
    "```"
   ]
  },
  {
   "cell_type": "code",
   "execution_count": null,
   "metadata": {},
   "outputs": [],
   "source": [
    "from diffusers import StableDiffusionImg2ImgPipeline\n",
    "pipe = StableDiffusionImg2ImgPipeline.from_pretrained(models[0], torch_dtype=torch.float16)\n",
    "pipe = pipe.to(device)"
   ]
  },
  {
   "cell_type": "code",
   "execution_count": null,
   "metadata": {},
   "outputs": [],
   "source": [
    "prompt = \"a beautiful painting of a cat\"\n",
    "image = pipe(prompt=prompt, image=img, strength=0.5, guidance_scale=12, num_inference_steps= 50).images[0]\n",
    "image.save(\"img2img_out.png\")"
   ]
  },
  {
   "cell_type": "code",
   "execution_count": null,
   "metadata": {},
   "outputs": [],
   "source": [
    "from diffusers import DiffusionPipeline, DDIMScheduler\n",
    "from PIL import Image\n",
    "\n",
    "pipe2 = DiffusionPipeline.from_pretrained(\n",
    "    models[0],\n",
    "    custom_pipeline=\"magic_mix\",\n",
    "    scheduler = DDIMScheduler.from_pretrained(models[0], subfolder=\"scheduler\"),\n",
    ").to('cuda')"
   ]
  },
  {
   "cell_type": "code",
   "execution_count": null,
   "metadata": {},
   "outputs": [],
   "source": [
    "mix_img = pipe2(\n",
    "    img, \n",
    "    prompt = prompt, \n",
    "    kmin = 0.1,\n",
    "    kmax = 0.6,\n",
    "    mix_factor = 0.2,\n",
    "    )\n",
    "mix_img.save('mix_out.jpg')"
   ]
  }
 ],
 "metadata": {
  "kernelspec": {
   "display_name": "stable",
   "language": "python",
   "name": "python3"
  },
  "language_info": {
   "codemirror_mode": {
    "name": "ipython",
    "version": 3
   },
   "file_extension": ".py",
   "mimetype": "text/x-python",
   "name": "python",
   "nbconvert_exporter": "python",
   "pygments_lexer": "ipython3",
   "version": "3.10.12"
  }
 },
 "nbformat": 4,
 "nbformat_minor": 2
}
