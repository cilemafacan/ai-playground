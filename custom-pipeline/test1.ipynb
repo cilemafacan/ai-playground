{
 "cells": [
  {
   "cell_type": "markdown",
   "metadata": {},
   "source": [
    "# CLIP Guided Stable Diffusion Community Sample\n",
    "Test edildi. Kisa denemelerde yararli bir fark gorulmedi"
   ]
  },
  {
   "cell_type": "code",
   "execution_count": null,
   "metadata": {},
   "outputs": [],
   "source": [
    "import torch\n",
    "from diffusers import StableDiffusionPipeline"
   ]
  },
  {
   "cell_type": "code",
   "execution_count": null,
   "metadata": {},
   "outputs": [],
   "source": [
    "models = ['runwayml/stable-diffusion-v1-5']\n",
    "device = \"cuda\""
   ]
  },
  {
   "cell_type": "code",
   "execution_count": null,
   "metadata": {},
   "outputs": [],
   "source": [
    "pipe = StableDiffusionPipeline.from_pretrained(models[0], safety_checker=None)\n",
    "pipe = pipe.to(device, torch.float16)\n",
    "\n",
    "prompt = \"a beautiful pink cat\"\n",
    "negative_prompt = \"(worst quality, low quality:2), monochrome, zombie,overexposure, watermark,text,bad anatomy,bad hand,extra hands,extra fingers,too many fingers,fused fingers,bad arm,distorted arm,extra arms,fused arms,extra legs,missing leg,disembodied leg,extra nipples, detached arm, liquid hand,inverted hand,disembodied limb, small breasts, loli, oversized head,extra body,completely nude, extra navel,easynegative,(hair between eyes),sketch, duplicate, ugly, huge eyes, text, logo, worst face, (bad and mutated hands:1.3),  (blurry:2.0), horror, geometry, bad_prompt, (bad hands), (missing fingers), multiple limbs, bad anatomy, (interlocked fingers:1.2), Ugly Fingers, (extra digit and hands and fingers and legs and arms:1.4), ((2girl)), (deformed fingers:1.2), (long fingers:1.2),(bad-artist-anime), bad-artist, bad hand, extra legs ,(ng_deepnegative_v1_75t)\"\n"
   ]
  },
  {
   "cell_type": "code",
   "execution_count": null,
   "metadata": {},
   "outputs": [],
   "source": [
    "generator = torch.Generator(device=\"cuda\").manual_seed(2)\n",
    "image = pipe(prompt,\n",
    "             num_inference_steps = 50,\n",
    "             height = 512,\n",
    "             width = 512,\n",
    "             guidance_scale = 6,\n",
    "             negative_prompt = negative_prompt,\n",
    "             generator = generator\n",
    "            ).images[0]\n",
    "\n",
    "image.save('normal_image.png')"
   ]
  },
  {
   "cell_type": "code",
   "execution_count": null,
   "metadata": {},
   "outputs": [],
   "source": [
    "from transformers import CLIPImageProcessor, CLIPModel\n",
    "from diffusers import DiffusionPipeline\n",
    "feature_extractor = CLIPImageProcessor.from_pretrained(\"laion/CLIP-ViT-B-32-laion2B-s34B-b79K\")\n",
    "clip_model = CLIPModel.from_pretrained(\"laion/CLIP-ViT-B-32-laion2B-s34B-b79K\", torch_dtype=torch.float16)\n",
    "generator = torch.Generator(device=\"cuda\").manual_seed(2)\n",
    "\n",
    "guided_pipeline = DiffusionPipeline.from_pretrained(models[0],\n",
    "                                                    custom_pipeline=\"clip_guided_stable_diffusion\",\n",
    "                                                    clip_model=clip_model,\n",
    "                                                    feature_extractor=feature_extractor,    \n",
    "                                                    torch_dtype=torch.float16)\n",
    "guided_pipeline.enable_attention_slicing()\n",
    "guided_pipeline = guided_pipeline.to(\"cuda\")\n",
    "\n",
    "image = guided_pipeline(prompt,    \n",
    "                        num_inference_steps=50,\n",
    "                        guidance_scale=7.5,\n",
    "                        clip_guidance_scale=6,\n",
    "                        num_cutouts=4,\n",
    "                        use_cutouts=False,\n",
    "                        generator=generator).images[0]\n",
    "image.save(\"guided_image.png\")"
   ]
  }
 ],
 "metadata": {
  "kernelspec": {
   "display_name": "stable",
   "language": "python",
   "name": "python3"
  },
  "language_info": {
   "codemirror_mode": {
    "name": "ipython",
    "version": 3
   },
   "file_extension": ".py",
   "mimetype": "text/x-python",
   "name": "python",
   "nbconvert_exporter": "python",
   "pygments_lexer": "ipython3",
   "version": "3.10.12"
  }
 },
 "nbformat": 4,
 "nbformat_minor": 2
}
