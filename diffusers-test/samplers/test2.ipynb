{
 "cells": [
  {
   "cell_type": "markdown",
   "metadata": {},
   "source": [
    "# Sampler modeller nasıl çalışır?"
   ]
  },
  {
   "cell_type": "code",
   "execution_count": null,
   "metadata": {},
   "outputs": [],
   "source": [
    "#----------------------------------------------------------------------------------------#\n",
    "# Add diffusers path to sys path\n",
    "import sys\n",
    "import os\n",
    "from dotenv import load_dotenv;\n",
    "# Load the .env file\n",
    "load_dotenv()\n",
    "# Get Diffusers path from environment variable\n",
    "diffusers_path = os.getenv('DIFFUSERS_PATH')\n",
    "print(f\"Diffusers path: {diffusers_path}\")\n",
    "if diffusers_path is None:\n",
    "    raise ValueError(\"Please set DIFFUSERS_PATH environment variable to Diffusers path\")\n",
    "sys.path.append(diffusers_path+\"/src\")\n",
    "#----------------------------------------------------------------------------------------#"
   ]
  },
  {
   "cell_type": "code",
   "execution_count": null,
   "metadata": {},
   "outputs": [],
   "source": [
    "from diffusers import DDPMPipeline\n",
    "\n",
    "ddpm = DDPMPipeline.from_pretrained(\"google/ddpm-celebahq-256\").to(\"cuda\")\n",
    "image = ddpm(num_inference_steps=30).images[0]\n",
    "\n",
    "display(image)"
   ]
  },
  {
   "cell_type": "markdown",
   "metadata": {},
   "source": [
    "DDPMPipeline'ı diffusers kullanarak oluşturduk. Peki bu pipeline nasıl çalışır? DDPM Pipeline'ı oluştururken"
   ]
  },
  {
   "cell_type": "code",
   "execution_count": null,
   "metadata": {},
   "outputs": [],
   "source": [
    "from diffusers import DDPMScheduler, UNet2DModel\n",
    "\n",
    "scheduler = DDPMScheduler.from_pretrained(\"google/ddpm-cat-256\")\n",
    "model = UNet2DModel.from_pretrained(\"google/ddpm-cat-256\").to(\"cuda\")\n",
    "\n",
    "scheduler.set_timesteps(30)\n",
    "print(scheduler.config)"
   ]
  },
  {
   "cell_type": "markdown",
   "metadata": {},
   "source": [
    "Scheduler zaman adımlarını ayarlamak, bu örnekte 50 eşit aralıklı öğeler içeren bir tensör oluşturur. Her öğe, modelin bir görüntüyü gürültüden arındırdığı bir zaman adımına karşılık gelir. Daha sonra gürültü giderme döngüsünü oluşturduğumuzda, bir görüntüyü gürültüden arındırmak için bu tensör üzerinde yineleme yapacağız."
   ]
  },
  {
   "cell_type": "markdown",
   "metadata": {},
   "source": [
    "İstenen çıktıyla aynı şekle sahip rastgele bir gürültü oluşturuyoruz."
   ]
  },
  {
   "cell_type": "code",
   "execution_count": null,
   "metadata": {},
   "outputs": [],
   "source": [
    "import torch\n",
    "from matplotlib import pyplot as plt\n",
    "from PIL import Image\n",
    "import numpy as np\n",
    "\n",
    "sample_size = 256\n",
    "noise = torch.randn((1, 3, sample_size, sample_size)).to(\"cuda\")\n",
    "print(noise.shape)"
   ]
  },
  {
   "cell_type": "code",
   "execution_count": null,
   "metadata": {},
   "outputs": [],
   "source": [
    "input = noise\n",
    "\n",
    "noisy_sample = []\n",
    "prev_noisy_sample = []\n",
    "\n",
    "for time in scheduler.timesteps:\n",
    "    with torch.no_grad():\n",
    "        noisy_residual = model(input, time).sample\n",
    "    noisy_sample.append(noisy_residual)\n",
    "    previous_noisy_sample = scheduler.step(noisy_residual, time, input).prev_sample\n",
    "    prev_noisy_sample.append(previous_noisy_sample)\n",
    "    input = previous_noisy_sample\n",
    "\n",
    "\n",
    "image = (input / 2 + 0.5).clamp(0, 1)\n",
    "image = image.cpu().permute(0, 2, 3, 1).numpy()[0]\n",
    "image = Image.fromarray((image * 255).round().astype(\"uint8\"))\n",
    "display(image)\n",
    "\n",
    "num_rows = 3\n",
    "num_cols = 10\n",
    "fig, axs = plt.subplots(num_rows, num_cols, figsize=(15, 6))\n",
    "\n",
    "# Her bir tensörü ayrı ayrı görüntüleyin\n",
    "for i, tensor in enumerate(noisy_sample):\n",
    "    row = i // num_cols\n",
    "    col = i % num_cols\n",
    "    tensor = (tensor / 2 + 0.5).clamp(0, 1)\n",
    "    tensor = tensor.cpu().permute(1,0, 2, 3).numpy()[0]\n",
    "    axs[row, col].imshow(np.transpose(tensor, (1, 2, 0)))\n",
    "    axs[row, col].axis('off')\n",
    "\n",
    "plt.show()\n",
    "fig, axs = plt.subplots(num_rows, num_cols, figsize=(15, 6))\n",
    "\n",
    "for i, tensor in enumerate(prev_noisy_sample):\n",
    "    row = i // num_cols\n",
    "    col = i % num_cols\n",
    "    tensor = (tensor / 2 + 0.5).clamp(0, 1)\n",
    "    tensor = tensor.cpu().permute(1,0, 2, 3).numpy()[0]\n",
    "    axs[row, col].imshow(np.transpose(tensor, (1, 2, 0)))\n",
    "    axs[row, col].axis('off')\n",
    "\n",
    "plt.show()"
   ]
  },
  {
   "cell_type": "code",
   "execution_count": null,
   "metadata": {},
   "outputs": [],
   "source": []
  }
 ],
 "metadata": {
  "kernelspec": {
   "display_name": "Python 3.10.12 ('deeplr')",
   "language": "python",
   "name": "python3"
  },
  "language_info": {
   "codemirror_mode": {
    "name": "ipython",
    "version": 3
   },
   "file_extension": ".py",
   "mimetype": "text/x-python",
   "name": "python",
   "nbconvert_exporter": "python",
   "pygments_lexer": "ipython3",
   "version": "3.10.12"
  },
  "orig_nbformat": 4,
  "vscode": {
   "interpreter": {
    "hash": "6ee4627a4c17c358e454dc07642658678ac6884506485624e3220e6043f82dcb"
   }
  }
 },
 "nbformat": 4,
 "nbformat_minor": 2
}
