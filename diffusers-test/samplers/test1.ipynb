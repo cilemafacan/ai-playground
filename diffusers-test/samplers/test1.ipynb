{
 "cells": [
  {
   "attachments": {},
   "cell_type": "markdown",
   "metadata": {},
   "source": [
    "# Samplers veya Schedulers\n",
    "\n",
    "Sampler, bir görüntüye yinelemeli olarak gürültü eklemek veya model çıktısına dayalı olarak bir örneği güncellemek için kullanılır.\n",
    "\n",
    "* Bu tutorial'da aşağıdaki smapler örnekleri incelenecek ve farklarına bakılacak:\n",
    "\n",
    "    1) ddim\n",
    "    2) ddpm\n",
    "    3) eular\n",
    "    4) euler_ancestral\n",
    "    5) pndm\n",
    "    6) stochastic_karras_ve\n",
    "    7) ipndm"
   ]
  },
  {
   "cell_type": "code",
   "execution_count": null,
   "metadata": {},
   "outputs": [],
   "source": [
    "import torch\n",
    "import numpy as np\n",
    "import PIL\n",
    "\n",
    "from diffusers import DiffusionPipeline, StableDiffusionImg2ImgPipeline, AutoPipelineForImage2Image\n",
    "from diffusers import DDIMScheduler\n",
    "from diffusers import DDIMInverseScheduler\n",
    "from diffusers import DEISMultistepScheduler\n",
    "from diffusers import KDPM2AncestralDiscreteScheduler\n",
    "from diffusers import KDPM2DiscreteScheduler\n",
    "\n",
    "from diffusers import DDPMScheduler\n",
    "from diffusers import EulerDiscreteScheduler\n",
    "from diffusers import EulerAncestralDiscreteScheduler\n",
    "from diffusers import PNDMScheduler\n",
    "from diffusers import HeunDiscreteScheduler\n",
    "\n",
    "import matplotlib.pyplot as plt"
   ]
  },
  {
   "cell_type": "code",
   "execution_count": null,
   "metadata": {},
   "outputs": [],
   "source": [
    "prompt = \"a beautiful cat\"\n",
    "steps = 50\n",
    "strength = 0.6\n",
    "guidance_scale = 7\n",
    "generator = torch.Generator(device='cuda').manual_seed(8)\n",
    "adapter_id = \"latent-consistency/lcm-lora-sdv1-5\"\n",
    "\n",
    "input = PIL.Image.open(\"../../1_media/input_images/cat.jpg\")"
   ]
  },
  {
   "cell_type": "code",
   "execution_count": null,
   "metadata": {},
   "outputs": [],
   "source": [
    "pipe = AutoPipelineForImage2Image.from_pretrained(\"runwayml/stable-diffusion-v1-5\", safety_checker=None)\n",
    "pipe.to(\"cuda\", torch.float16)\n",
    "print(pipe.scheduler)\n",
    "pipe.load_lora_weights(adapter_id)\n",
    "pipe.fuse_lora()"
   ]
  },
  {
   "cell_type": "code",
   "execution_count": null,
   "metadata": {},
   "outputs": [],
   "source": [
    "sch_list = [\n",
    "    DDIMScheduler,\n",
    "    DEISMultistepScheduler,\n",
    "    KDPM2AncestralDiscreteScheduler,\n",
    "    KDPM2DiscreteScheduler,\n",
    "    DDPMScheduler,\n",
    "    EulerDiscreteScheduler,\n",
    "    EulerAncestralDiscreteScheduler,\n",
    "    PNDMScheduler,\n",
    "    HeunDiscreteScheduler\n",
    "]"
   ]
  },
  {
   "cell_type": "code",
   "execution_count": null,
   "metadata": {},
   "outputs": [],
   "source": [
    "outputs = []\n",
    "outputs.append({\"name\": \"input\", \"image\": input})\n",
    "for sch in sch_list:\n",
    "    pipe.scheduler = sch.from_config(pipe.scheduler.config)\n",
    "    generator = torch.Generator(device='cuda').manual_seed(42)\n",
    "    image = pipe(image = input, prompt=prompt, num_inference_steps=steps, generator=generator, strength=strength, guidance_scale=guidance_scale).images[0]\n",
    "    print(sch.__name__)\n",
    "    outputs.append({\"name\": sch.__name__, \"image\": image})\n",
    "    "
   ]
  },
  {
   "cell_type": "code",
   "execution_count": null,
   "metadata": {},
   "outputs": [],
   "source": [
    "#matplotlib grid\n",
    "fig, axs = plt.subplots(5, 2, figsize=(15, 40))\n",
    "for i, ax in enumerate(axs.flat):\n",
    "    ax.imshow(outputs[i][\"image\"])\n",
    "    ax.set_title(outputs[i][\"name\"])\n",
    "    # info text\n",
    "    ax.axis('off')\n",
    "ax.text(0.5,-0.5, f\"steps: {steps}\\nstrength: {strength}\\nguidance_scale: {guidance_scale}\\nprompt: {prompt}\", size=12, ha=\"center\", transform=ax.transAxes)"
   ]
  }
 ],
 "metadata": {
  "kernelspec": {
   "display_name": "Python 3.10.12 64-bit",
   "language": "python",
   "name": "python3"
  },
  "language_info": {
   "codemirror_mode": {
    "name": "ipython",
    "version": 3
   },
   "file_extension": ".py",
   "mimetype": "text/x-python",
   "name": "python",
   "nbconvert_exporter": "python",
   "pygments_lexer": "ipython3",
   "version": "3.10.12"
  },
  "orig_nbformat": 4,
  "vscode": {
   "interpreter": {
    "hash": "916dbcbb3f70747c44a77c7bcd40155683ae19c65e1c03b4aa3499c5328201f1"
   }
  }
 },
 "nbformat": 4,
 "nbformat_minor": 2
}
