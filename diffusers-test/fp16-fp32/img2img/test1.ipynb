{
 "cells": [
  {
   "cell_type": "code",
   "execution_count": null,
   "metadata": {},
   "outputs": [],
   "source": [
    "import torch\n",
    "from PIL import Image\n",
    "from diffusers import StableDiffusionImg2ImgPipeline\n",
    "from diffusers import DPMSolverMultistepScheduler \n",
    "from diffusers import StableDiffusionPipeline\n",
    "from diffusers import DiffusionPipeline"
   ]
  },
  {
   "cell_type": "code",
   "execution_count": null,
   "metadata": {},
   "outputs": [],
   "source": [
    "input_image_path = \"../../../1_media/input_images/cat.jpg\"\n",
    "input_image = Image.open(input_image_path)\n",
    "print(\"Input Image Size: \", input_image.size)\n",
    "display(input_image)"
   ]
  },
  {
   "cell_type": "code",
   "execution_count": null,
   "metadata": {},
   "outputs": [],
   "source": [
    "pipe = DiffusionPipeline.from_pretrained(\"SimianLuo/LCM_Dreamshaper_v7\", \n",
    "                                         custom_pipeline=\"latent_consistency_txt2img\", \n",
    "                                         custom_revision=\"main\", \n",
    "                                         revision=\"main\")\n",
    "pipe.to(\"cuda:1\", torch.float32)"
   ]
  },
  {
   "cell_type": "code",
   "execution_count": null,
   "metadata": {},
   "outputs": [],
   "source": [
    "out_fp16 = pipe(prompt= \"pink and red flowers pattern on yellow background, textile pattern, green leaves, high resolution\",\n",
    "                lcm_origin_steps=100,\n",
    "                num_inference_steps=50,\n",
    "                guidance_scale=8.0,\n",
    "                ).images[0]\n",
    "\n",
    "out_fp16.show()"
   ]
  },
  {
   "cell_type": "code",
   "execution_count": null,
   "metadata": {},
   "outputs": [],
   "source": [
    "pipe_fp32 = StableDiffusionImg2ImgPipeline.from_pretrained(\"/home/sd_models/deliberate_v2\")\n",
    "pipe_fp32 = pipe_fp32.to(\"cuda\", torch.float32)\n",
    "pipe_fp32.scheduler = DPMSolverMultistepScheduler.from_config(pipe_fp32.scheduler.config)"
   ]
  },
  {
   "cell_type": "code",
   "execution_count": null,
   "metadata": {},
   "outputs": [],
   "source": []
  }
 ],
 "metadata": {
  "kernelspec": {
   "display_name": "Python 3.10.12 64-bit",
   "language": "python",
   "name": "python3"
  },
  "language_info": {
   "codemirror_mode": {
    "name": "ipython",
    "version": 3
   },
   "file_extension": ".py",
   "mimetype": "text/x-python",
   "name": "python",
   "nbconvert_exporter": "python",
   "pygments_lexer": "ipython3",
   "version": "3.10.12"
  },
  "orig_nbformat": 4,
  "vscode": {
   "interpreter": {
    "hash": "916dbcbb3f70747c44a77c7bcd40155683ae19c65e1c03b4aa3499c5328201f1"
   }
  }
 },
 "nbformat": 4,
 "nbformat_minor": 2
}
