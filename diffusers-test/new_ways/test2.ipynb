{
 "cells": [
  {
   "cell_type": "markdown",
   "metadata": {},
   "source": [
    "MagicMix Community Example\n",
    "\n",
    "Cok vurucu sonuclar alinmadi"
   ]
  },
  {
   "cell_type": "code",
   "execution_count": 1,
   "metadata": {},
   "outputs": [
    {
     "name": "stdout",
     "output_type": "stream",
     "text": [
      "Diffusers path: f:\\dev\\aitnew\\diffusers\n",
      "2.0.1\n"
     ]
    }
   ],
   "source": [
    "#----------------------------------------------------------------------------------------#\n",
    "# Add diffusers path to sys path\n",
    "import sys\n",
    "import os\n",
    "# Get Diffusers path from environment variable\n",
    "diffusers_path = os.getenv('DIFFUSERS_PATH')\n",
    "print(f\"Diffusers path: {diffusers_path}\")\n",
    "if diffusers_path is None:\n",
    "    raise ValueError(\"Please set DIFFUSERS_PATH environment variable to Diffusers path\")\n",
    "sys.path.append(diffusers_path+\"/src\")\n",
    "#----------------------------------------------------------------------------------------#\n",
    "\n",
    "from diffusers import StableDiffusionPipeline\n",
    "import torch\n",
    "\n",
    "models = [r'f:\\sd_models\\ghostmix_v2',\n",
    "          r'f:\\sd_models\\aesteticmix',\n",
    "          r'f:\\sd_models\\revAnimated_v122',]\n",
    "device = \"cuda\"\n",
    "\n",
    "# print pytorch version\n",
    "print(torch.__version__)"
   ]
  },
  {
   "cell_type": "code",
   "execution_count": 38,
   "metadata": {},
   "outputs": [],
   "source": [
    "img = Image.open('input_image.png')"
   ]
  },
  {
   "cell_type": "markdown",
   "metadata": {},
   "source": [
    "Normal Img2Img pipeline\n",
    "```"
   ]
  },
  {
   "cell_type": "code",
   "execution_count": 39,
   "metadata": {},
   "outputs": [
    {
     "data": {
      "application/vnd.jupyter.widget-view+json": {
       "model_id": "609cae07ba2e4c4cb25a9ef1e6d983a4",
       "version_major": 2,
       "version_minor": 0
      },
      "text/plain": [
       "Loading pipeline components...:   0%|          | 0/7 [00:00<?, ?it/s]"
      ]
     },
     "metadata": {},
     "output_type": "display_data"
    }
   ],
   "source": [
    "from diffusers import StableDiffusionImg2ImgPipeline\n",
    "pipe = StableDiffusionImg2ImgPipeline.from_pretrained(models[1], torch_dtype=torch.float16)\n",
    "pipe = pipe.to(device)"
   ]
  },
  {
   "cell_type": "code",
   "execution_count": 52,
   "metadata": {},
   "outputs": [
    {
     "data": {
      "application/vnd.jupyter.widget-view+json": {
       "model_id": "a76f53d97e79456d843bc76fc2500a7e",
       "version_major": 2,
       "version_minor": 0
      },
      "text/plain": [
       "  0%|          | 0/52 [00:00<?, ?it/s]"
      ]
     },
     "metadata": {},
     "output_type": "display_data"
    }
   ],
   "source": [
    "prompt = \"the lake\"\n",
    "image = pipe(prompt=prompt, image=img, strength=0.35, guidance_scale=19, num_inference_steps= 150,\n",
    "             ).images[0]\n",
    "image.save(\"./test2_out/img2img_out.png\")"
   ]
  },
  {
   "cell_type": "code",
   "execution_count": 33,
   "metadata": {},
   "outputs": [
    {
     "name": "stderr",
     "output_type": "stream",
     "text": [
      "f:\\miniconda3\\envs\\stable\\lib\\site-packages\\huggingface_hub\\file_download.py:649: FutureWarning: 'cached_download' is the legacy way to download files from the HF hub, please consider upgrading to 'hf_hub_download'\n",
      "  warnings.warn(\n"
     ]
    },
    {
     "data": {
      "application/vnd.jupyter.widget-view+json": {
       "model_id": "6971bbd206c74808b1a19dee05480aca",
       "version_major": 2,
       "version_minor": 0
      },
      "text/plain": [
       "Loading pipeline components...:   0%|          | 0/5 [00:00<?, ?it/s]"
      ]
     },
     "metadata": {},
     "output_type": "display_data"
    }
   ],
   "source": [
    "from diffusers import DiffusionPipeline, DDIMScheduler\n",
    "from PIL import Image\n",
    "\n",
    "pipe2 = DiffusionPipeline.from_pretrained(\n",
    "    models[1],\n",
    "    custom_pipeline=\"magic_mix\",\n",
    "    scheduler = DDIMScheduler.from_pretrained(models[1], subfolder=\"scheduler\"),\n",
    ").to('cuda')"
   ]
  },
  {
   "cell_type": "code",
   "execution_count": 53,
   "metadata": {},
   "outputs": [
    {
     "data": {
      "application/vnd.jupyter.widget-view+json": {
       "model_id": "d563d2bb9abc4002911848d9c0a7ab46",
       "version_major": 2,
       "version_minor": 0
      },
      "text/plain": [
       "  0%|          | 0/50 [00:00<?, ?it/s]"
      ]
     },
     "metadata": {},
     "output_type": "display_data"
    }
   ],
   "source": [
    "\n",
    "mix_img = pipe2(\n",
    "    img, \n",
    "    prompt = prompt, \n",
    "    kmin = 0.1,\n",
    "    kmax = 0.6,\n",
    "    mix_factor = 0.2,\n",
    "    )\n",
    "mix_img.save('./test2_out/mix_out.jpg')"
   ]
  }
 ],
 "metadata": {
  "kernelspec": {
   "display_name": "stable",
   "language": "python",
   "name": "python3"
  },
  "language_info": {
   "codemirror_mode": {
    "name": "ipython",
    "version": 3
   },
   "file_extension": ".py",
   "mimetype": "text/x-python",
   "name": "python",
   "nbconvert_exporter": "python",
   "pygments_lexer": "ipython3",
   "version": "3.10.12"
  }
 },
 "nbformat": 4,
 "nbformat_minor": 2
}
