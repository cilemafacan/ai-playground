{
 "cells": [
  {
   "cell_type": "markdown",
   "metadata": {},
   "source": [
    "## Image2Image LORA Testi"
   ]
  },
  {
   "cell_type": "code",
   "execution_count": null,
   "metadata": {},
   "outputs": [],
   "source": [
    "import torch \n",
    "from diffusers import StableDiffusionImg2ImgPipeline\n",
    "from diffusers import DPMSolverMultistepScheduler\n",
    "from PIL import Image"
   ]
  },
  {
   "cell_type": "code",
   "execution_count": null,
   "metadata": {},
   "outputs": [],
   "source": [
    "models  = [\"digiplay/GhostMixV1.2VAE\", \"/home/sd_models/aestheticmix_v2/\", \"/home/sd_models/deliberate_v2/\"]\n",
    "lora_model_path = [\"/home/loras/GameIconResearch_gfcjloa_Lora.safetensors\", \n",
    "                    \"/home/loras/TCTH-Fairy.safetensors\",\n",
    "                    \"/home/loras/suonxam_SDLife_Chiasedamme_v4.0.safetensors\",\n",
    "                    \"/home/loras/vividWatercolors_10.safetensors\"]\n",
    "pipe = StableDiffusionImg2ImgPipeline.from_pretrained(models[1], safety_checker=None)\n",
    "pipe.scheduler = DPMSolverMultistepScheduler.from_config(pipe.scheduler.config)\n",
    "pipe.load_lora_weights(lora_model_path[1])\n",
    "pipe.to(\"cuda:1\", torch_dtype=torch.float16)"
   ]
  },
  {
   "cell_type": "code",
   "execution_count": null,
   "metadata": {},
   "outputs": [],
   "source": [
    "image = Image.open(\"../images/input/image-1.png\")\n",
    "prompt = \"a painting of a flowers\"\n",
    "gdc = 12\n",
    "strength = 0.5\n",
    "steps = 30"
   ]
  },
  {
   "cell_type": "code",
   "execution_count": null,
   "metadata": {},
   "outputs": [],
   "source": [
    "generator = torch.Generator().manual_seed(42)\n",
    "output = pipe(image=image, guidance_scale=gdc, strength=strength, num_inference_steps=steps, prompt=prompt, generator=generator).images[0]\n",
    "display(output)"
   ]
  },
  {
   "cell_type": "code",
   "execution_count": null,
   "metadata": {},
   "outputs": [],
   "source": [
    "pipe = StableDiffusionImg2ImgPipeline.from_pretrained(models[0], safety_checker=None)\n",
    "pipe.scheduler = DPMSolverMultistepScheduler.from_config(pipe.scheduler.config)\n",
    "pipe.to(\"cuda:1\", torch_dtype=torch.float16)"
   ]
  },
  {
   "cell_type": "code",
   "execution_count": null,
   "metadata": {},
   "outputs": [],
   "source": [
    "generator = torch.Generator().manual_seed(42)\n",
    "output = pipe(image=image, guidance_scale=gdc, strength=strength, num_inference_steps=steps, prompt=prompt, generator=generator).images[0]\n",
    "display(output)"
   ]
  }
 ],
 "metadata": {
  "kernelspec": {
   "display_name": "Python 3.10.12 ('deeplr')",
   "language": "python",
   "name": "python3"
  },
  "language_info": {
   "codemirror_mode": {
    "name": "ipython",
    "version": 3
   },
   "file_extension": ".py",
   "mimetype": "text/x-python",
   "name": "python",
   "nbconvert_exporter": "python",
   "pygments_lexer": "ipython3",
   "version": "3.10.12"
  },
  "orig_nbformat": 4,
  "vscode": {
   "interpreter": {
    "hash": "6ee4627a4c17c358e454dc07642658678ac6884506485624e3220e6043f82dcb"
   }
  }
 },
 "nbformat": 4,
 "nbformat_minor": 2
}
