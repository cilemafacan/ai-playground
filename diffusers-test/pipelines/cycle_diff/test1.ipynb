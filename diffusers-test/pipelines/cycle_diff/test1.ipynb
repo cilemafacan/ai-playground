{
 "cells": [
  {
   "cell_type": "code",
   "execution_count": null,
   "metadata": {},
   "outputs": [],
   "source": [
    "import requests\n",
    "import torch\n",
    "from PIL import Image\n",
    "from io import BytesIO\n",
    "\n",
    "from diffusers import CycleDiffusionPipeline, DDIMScheduler\n",
    "\n",
    "# load the pipeline\n",
    "# make sure you're logged in with `huggingface-cli login`\n",
    "model_id_or_path = \"CompVis/stable-diffusion-v1-4\"\n",
    "scheduler = DDIMScheduler.from_pretrained(model_id_or_path, subfolder=\"scheduler\")\n",
    "pipe = CycleDiffusionPipeline.from_pretrained(model_id_or_path, scheduler=scheduler).to(\"cuda\")\n",
    "\n",
    "# let's download an initial image\n",
    "url = \"https://raw.githubusercontent.com/ChenWu98/cycle-diffusion/main/data/dalle2/An%20astronaut%20riding%20a%20horse.png\"\n",
    "response = requests.get(url)\n",
    "init_image = Image.open(BytesIO(response.content)).convert(\"RGB\")\n",
    "init_image = init_image.resize((512, 512))\n",
    "init_image.save(\"horse.png\")\n",
    "\n",
    "# let's specify a prompt\n",
    "source_prompt = \"An astronaut riding a horse\"\n",
    "prompt = \"An astronaut riding an elephant\"\n",
    "\n",
    "# call the pipeline\n",
    "image = pipe(\n",
    "    prompt=prompt,\n",
    "    source_prompt=source_prompt,\n",
    "    image=init_image,\n",
    "    num_inference_steps=100,\n",
    "    eta=0.1,\n",
    "    strength=0.8,\n",
    "    guidance_scale=2,\n",
    "    source_guidance_scale=1,\n",
    ").images[0]\n",
    "\n",
    "image.save(\"horse_to_elephant.png\")\n",
    "\n",
    "# let's try another example\n",
    "# See more samples at the original repo: https://github.com/ChenWu98/cycle-diffusion\n",
    "url = (\n",
    "    \"https://raw.githubusercontent.c om/ChenWu98/cycle-diffusion/main/data/dalle2/A%20black%20colored%20car.png\"\n",
    ")\n",
    "response = requests.get(url)\n",
    "init_image = Image.open(BytesIO(response.content)).convert(\"RGB\")\n",
    "init_image = init_image.resize((512, 512))\n",
    "init_image.save(\"black.png\")\n",
    "\n",
    "source_prompt = \"A black colored car\"\n",
    "prompt = \"A blue colored car\"\n",
    "\n",
    "# call the pipeline\n",
    "torch.manual_seed(0)\n",
    "image = pipe(\n",
    "    prompt=prompt,\n",
    "    source_prompt=source_prompt,\n",
    "    image=init_image,\n",
    "    num_inference_steps=100,\n",
    "    eta=0.1,\n",
    "    strength=0.85,\n",
    "    guidance_scale=3,\n",
    "    source_guidance_scale=1,\n",
    ").images[0]\n",
    "\n",
    "image.save(\"black_to_blue.png\")"
   ]
  },
  {
   "cell_type": "code",
   "execution_count": 16,
   "metadata": {},
   "outputs": [],
   "source": [
    "mydict = {\"imagine\": {\"name\": \"cycle_diff\", \"version\": \"0.0.1\"},\n",
    "        \"repeater\":{\"name\": \"diffusers\", \"version\": \"0.0.1\"},\n",
    "        \"upscale\": {\"name\": \"torch\", \"version\": \"1.9.0\"},\n",
    "        \"downscale\": {\"name\": \"torch\", \"version\": \"1.9.0\"}\n",
    "}"
   ]
  },
  {
   "cell_type": "code",
   "execution_count": 10,
   "metadata": {},
   "outputs": [
    {
     "name": "stdout",
     "output_type": "stream",
     "text": [
      "dict_keys(['imagine', 'repeater'])\n",
      "<class 'dict_keys'>\n",
      "['imagine', 'repeater']\n",
      "<class 'list'>\n"
     ]
    }
   ],
   "source": [
    "my_keys = mydict.keys()\n",
    "print(my_keys)\n",
    "print(type(my_keys))\n",
    "my_keys_list = list(my_keys)\n",
    "print(my_keys_list)\n",
    "print(type(my_keys_list))"
   ]
  },
  {
   "cell_type": "code",
   "execution_count": 11,
   "metadata": {},
   "outputs": [
    {
     "name": "stdout",
     "output_type": "stream",
     "text": [
      "repeater\n"
     ]
    }
   ],
   "source": [
    "print(my_keys_list[-1])"
   ]
  },
  {
   "cell_type": "code",
   "execution_count": 17,
   "metadata": {},
   "outputs": [
    {
     "name": "stdout",
     "output_type": "stream",
     "text": [
      "dict_items([('imagine', {'name': 'cycle_diff', 'version': '0.0.1'}), ('repeater', {'name': 'diffusers', 'version': '0.0.1'}), ('upscale', {'name': 'torch', 'version': '1.9.0'})])\n",
      "<class 'dict_items'>\n",
      "[('imagine', {'name': 'cycle_diff', 'version': '0.0.1'}), ('repeater', {'name': 'diffusers', 'version': '0.0.1'}), ('upscale', {'name': 'torch', 'version': '1.9.0'})]\n"
     ]
    }
   ],
   "source": [
    "myitems = mydict.items()\n",
    "print(myitems)\n",
    "print(type(myitems))\n",
    "myitems_list = list(myitems)\n",
    "print(myitems_list)"
   ]
  },
  {
   "cell_type": "code",
   "execution_count": 18,
   "metadata": {},
   "outputs": [
    {
     "name": "stdout",
     "output_type": "stream",
     "text": [
      "[('repeater', {'name': 'diffusers', 'version': '0.0.1'})]\n"
     ]
    }
   ],
   "source": [
    "print(myitems_list[1:-1])"
   ]
  },
  {
   "cell_type": "code",
   "execution_count": null,
   "metadata": {},
   "outputs": [],
   "source": []
  }
 ],
 "metadata": {
  "kernelspec": {
   "display_name": "Python 3.10.12 64-bit",
   "language": "python",
   "name": "python3"
  },
  "language_info": {
   "codemirror_mode": {
    "name": "ipython",
    "version": 3
   },
   "file_extension": ".py",
   "mimetype": "text/x-python",
   "name": "python",
   "nbconvert_exporter": "python",
   "pygments_lexer": "ipython3",
   "version": "3.10.12"
  },
  "orig_nbformat": 4,
  "vscode": {
   "interpreter": {
    "hash": "916dbcbb3f70747c44a77c7bcd40155683ae19c65e1c03b4aa3499c5328201f1"
   }
  }
 },
 "nbformat": 4,
 "nbformat_minor": 2
}
