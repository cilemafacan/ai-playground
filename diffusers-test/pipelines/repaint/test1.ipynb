{
 "cells": [
  {
   "cell_type": "code",
   "execution_count": null,
   "metadata": {},
   "outputs": [],
   "source": [
    "from io import BytesIO\n",
    "import torch\n",
    "import PIL\n",
    "import requests\n",
    "from diffusers import RePaintPipeline, RePaintScheduler\n",
    "\n",
    "\n",
    "def download_image(url):\n",
    "    response = requests.get(url)\n",
    "    return PIL.Image.open(BytesIO(response.content)).convert(\"RGB\")\n",
    "\n",
    "\n",
    "img_url = \"https://huggingface.co/datasets/hf-internal-testing/diffusers-images/resolve/main/repaint/celeba_hq_256.png\"\n",
    "mask_url = \"https://huggingface.co/datasets/hf-internal-testing/diffusers-images/resolve/main/repaint/mask_256.png\"\n",
    "\n",
    "# Load the original image and the mask as PIL images\n",
    "original_image = download_image(img_url).resize((256, 256))\n",
    "mask_image = download_image(mask_url).resize((256, 256))\n",
    "\n",
    "# Load the RePaint scheduler and pipeline based on a pretrained DDPM model\n",
    "scheduler = RePaintScheduler.from_pretrained(\"google/ddpm-ema-celebahq-256\")\n",
    "pipe = RePaintPipeline.from_pretrained(\"google/ddpm-ema-celebahq-256\", scheduler=scheduler)\n",
    "pipe = pipe.to(\"cuda\")\n",
    "\n",
    "generator = torch.Generator(device=\"cuda\").manual_seed(0)\n",
    "output = pipe(\n",
    "    image=original_image,\n",
    "    mask_image=mask_image,\n",
    "    num_inference_steps=250,\n",
    "    eta=0.0,\n",
    "    jump_length=10,\n",
    "    jump_n_sample=10,\n",
    "    generator=generator,\n",
    ")\n",
    "inpainted_image = output.images[0]"
   ]
  },
  {
   "cell_type": "code",
   "execution_count": null,
   "metadata": {},
   "outputs": [],
   "source": [
    "inpainted_image.show()"
   ]
  }
 ],
 "metadata": {
  "kernelspec": {
   "display_name": "Python 3.10.12 64-bit",
   "language": "python",
   "name": "python3"
  },
  "language_info": {
   "codemirror_mode": {
    "name": "ipython",
    "version": 3
   },
   "file_extension": ".py",
   "mimetype": "text/x-python",
   "name": "python",
   "nbconvert_exporter": "python",
   "pygments_lexer": "ipython3",
   "version": "3.10.12"
  },
  "orig_nbformat": 4,
  "vscode": {
   "interpreter": {
    "hash": "916dbcbb3f70747c44a77c7bcd40155683ae19c65e1c03b4aa3499c5328201f1"
   }
  }
 },
 "nbformat": 4,
 "nbformat_minor": 2
}
