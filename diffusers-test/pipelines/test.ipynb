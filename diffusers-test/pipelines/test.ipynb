{
 "cells": [
  {
   "cell_type": "code",
   "execution_count": null,
   "metadata": {},
   "outputs": [],
   "source": [
    "import numpy as np\n",
    "from PIL import Image\n",
    "import torch\n",
    "import matplotlib.pyplot as plt\n",
    "from pipeline_utils import image_preprocess, image_postprocess\n"
   ]
  },
  {
   "cell_type": "code",
   "execution_count": null,
   "metadata": {},
   "outputs": [],
   "source": [
    "pil_image = Image.open(\"../images/input/test1.png\").resize((256,256)).convert(\"RGBA\")\n",
    "print(\"PIL Image Size:\", pil_image.size)\n",
    "print(\"PIL Image Mode:\", pil_image.mode)\n",
    "print(\"PIL Image Max:\", pil_image.getextrema()[1])\n",
    "\n",
    "np_image = np.array(pil_image)\n",
    "print(\"Numpy Image Shape:\", np_image.shape)\n",
    "print(\"Numpy Image Max:\", np_image.max())\n",
    "\n",
    "tensor_image = torch.from_numpy(np_image)\n",
    "print(\"Tensor Image Shape:\", tensor_image.shape)\n",
    "print(\"Tensor Image Max:\", tensor_image.max())\n"
   ]
  },
  {
   "cell_type": "code",
   "execution_count": null,
   "metadata": {},
   "outputs": [],
   "source": [
    "processed_image_pil = image_preprocess(image=pil_image, height=519, width=519, do_resize=True, do_normalize=True)\n",
    "processed_image_np = image_preprocess(image=np_image, height=519, width=519, do_resize=True, do_normalize=True)\n",
    "processed_image_tensor = image_preprocess(image=tensor_image, height=519, width=519, do_resize=True, do_normalize=True)\n",
    "\n",
    "print(\"Type of processed_image_pil:\", type(processed_image_pil))\n",
    "print(\"Type of processed_image_np:\", type(processed_image_np))\n",
    "print(\"Type of processed_image_tensor:\", type(processed_image_tensor))"
   ]
  },
  {
   "cell_type": "code",
   "execution_count": null,
   "metadata": {},
   "outputs": [],
   "source": [
    "print(\"Processed Image pil Shape:\", processed_image_pil.shape)\n",
    "print(\"Processed Image pil Max:\", processed_image_pil.max())\n",
    "print(\"Processed Image pil Min:\", processed_image_pil.min())\n",
    "\n",
    "print(\"Processed Image nup Shape:\", processed_image_np.shape)\n",
    "print(\"Processed Image nup Max:\", processed_image_np.max())\n",
    "print(\"Processed Image nup Min:\", processed_image_np.min())\n",
    "\n",
    "print(\"Processed Image tensor Shape:\", processed_image_tensor.shape)\n",
    "print(\"Processed Image tensor Max:\", processed_image_tensor.max())\n",
    "print(\"Processed Image tensor Min:\", processed_image_tensor.min())\n",
    "pil_t = processed_image_pil[0].permute(1,2,0)\n",
    "np_t = processed_image_np[0].permute(1,2,0)\n",
    "tensor_t = processed_image_tensor[0].permute(1,2,0)\n",
    "\n",
    "print(\"PIL Image Size:\", pil_t.shape)\n",
    "print(\"Numpy Image Shape:\", np_t.shape)\n",
    "print(\"Tensor Image Shape:\", tensor_t.shape)\n",
    "\n",
    "plt.imshow(pil_t, cmap=\"gray\")\n",
    "plt.show()\n",
    "\n",
    "plt.imshow(np_t, cmap=\"gray\")\n",
    "plt.show()\n",
    "\n",
    "plt.imshow(tensor_t, cmap=\"gray\")\n",
    "plt.show()\n"
   ]
  },
  {
   "cell_type": "code",
   "execution_count": null,
   "metadata": {},
   "outputs": [],
   "source": [
    "post_processed_image_pil = image_postprocess(tensor_image=processed_image_np, do_denormalize=True)\n",
    "\n",
    "print(\"Type of post_processed_image_pil:\", type(post_processed_image_pil))\n",
    "print(\"Post Processed Image pil Size:\", post_processed_image_pil.size)\n",
    "print(\"Post Processed Image pil Mode:\", post_processed_image_pil.mode)\n",
    "print(\"Post Processed Image pil Max:\", post_processed_image_pil.getextrema()[1])\n"
   ]
  },
  {
   "cell_type": "code",
   "execution_count": null,
   "metadata": {},
   "outputs": [],
   "source": [
    "plt.imshow(post_processed_image_pil)\n",
    "plt.show()"
   ]
  },
  {
   "cell_type": "code",
   "execution_count": null,
   "metadata": {},
   "outputs": [],
   "source": [
    "pil_image = Image.open(\"../images/input/test1.png\").resize((256,256)).convert(\"L\")\n",
    "print(\"PIL Image Size:\", pil_image.size)\n",
    "print(\"PIL Image Mode:\", pil_image.mode)\n",
    "print(\"PIL Image Max:\", pil_image.getextrema()[1])\n",
    "\n",
    "np_image = np.array(pil_image)\n",
    "print(\"Numpy Image Shape:\", np_image.shape)\n",
    "print(\"Numpy Image Max:\", np_image.max())\n",
    "\n",
    "tensor_image = torch.from_numpy(np_image)\n",
    "print(\"Tensor Image Shape:\", tensor_image.shape)\n",
    "print(\"Tensor Image Max:\", tensor_image.max())"
   ]
  },
  {
   "cell_type": "code",
   "execution_count": null,
   "metadata": {},
   "outputs": [],
   "source": [
    "processed_image_pil = image_preprocess(image=pil_image, height=519, width=519, do_resize=True, do_normalize=True)\n",
    "processed_image_np = image_preprocess(image=np_image, height=519, width=519, do_resize=True, do_normalize=True)\n",
    "processed_image_tensor = image_preprocess(image=tensor_image, height=519, width=519, do_resize=True, do_normalize=True)\n",
    "\n",
    "print(\"Type of processed_image_pil:\", type(processed_image_pil))\n",
    "print(\"Type of processed_image_np:\", type(processed_image_np))\n",
    "print(\"Type of processed_image_tensor:\", type(processed_image_tensor))"
   ]
  },
  {
   "cell_type": "code",
   "execution_count": null,
   "metadata": {},
   "outputs": [],
   "source": [
    "print(\"Processed Image pil Shape:\", processed_image_pil.shape)\n",
    "print(\"Processed Image pil Max:\", processed_image_pil.max())\n",
    "print(\"Processed Image pil Min:\", processed_image_pil.min())\n",
    "\n",
    "print(\"Processed Image nup Shape:\", processed_image_np.shape)\n",
    "print(\"Processed Image nup Max:\", processed_image_np.max())\n",
    "print(\"Processed Image nup Min:\", processed_image_np.min())\n",
    "\n",
    "print(\"Processed Image tensor Shape:\", processed_image_tensor.shape)\n",
    "print(\"Processed Image tensor Max:\", processed_image_tensor.max())\n",
    "print(\"Processed Image tensor Min:\", processed_image_tensor.min())\n",
    "pil_t = processed_image_pil[0].permute(1,2,0)\n",
    "np_t = processed_image_np[0].permute(1,2,0)\n",
    "tensor_t = processed_image_tensor[0].permute(1,2,0)\n",
    "\n",
    "print(\"PIL Image Size:\", pil_t.shape)\n",
    "print(\"Numpy Image Shape:\", np_t.shape)\n",
    "print(\"Tensor Image Shape:\", tensor_t.shape)\n",
    "\n",
    "plt.imshow(pil_t, cmap=\"gray\")\n",
    "plt.show()\n",
    "\n",
    "plt.imshow(np_t, cmap=\"gray\")\n",
    "plt.show()\n",
    "\n",
    "plt.imshow(tensor_t, cmap=\"gray\")\n",
    "plt.show()\n"
   ]
  },
  {
   "cell_type": "code",
   "execution_count": null,
   "metadata": {},
   "outputs": [],
   "source": [
    "pil_image = Image.open(\"../images/input/test1.png\").resize((256,256)).convert(\"L\")\n",
    "print(\"PIL Image Size:\", pil_image.size)\n",
    "print(\"PIL Image Mode:\", pil_image.mode)\n",
    "print(\"PIL Image Max:\", pil_image.getextrema()[1])\n",
    "\n",
    "np_image = np.array(pil_image)\n",
    "print(\"Numpy Image Shape:\", np_image.shape)\n",
    "print(\"Numpy Image Max:\", np_image.max())\n",
    "\n",
    "tensor_image = torch.from_numpy(np_image)\n",
    "print(\"Tensor Image Shape:\", tensor_image.shape)\n",
    "print(\"Tensor Image Max:\", tensor_image.max())"
   ]
  },
  {
   "cell_type": "code",
   "execution_count": null,
   "metadata": {},
   "outputs": [],
   "source": [
    "processed_image_pil = image_preprocess(image=pil_image, height=519, width=519, do_resize=False, do_normalize=True)\n",
    "processed_image_np = image_preprocess(image=np_image, height=519, width=519, do_resize=False, do_normalize=True)\n",
    "processed_image_tensor = image_preprocess(image=tensor_image, height=519, width=519, do_resize=False, do_normalize=True)\n",
    "\n",
    "print(\"Type of processed_image_pil:\", type(processed_image_pil))\n",
    "print(\"Type of processed_image_np:\", type(processed_image_np))\n",
    "print(\"Type of processed_image_tensor:\", type(processed_image_tensor))"
   ]
  },
  {
   "cell_type": "code",
   "execution_count": null,
   "metadata": {},
   "outputs": [],
   "source": [
    "print(\"Processed Image pil Shape:\", processed_image_pil.shape)\n",
    "print(\"Processed Image pil Max:\", processed_image_pil.max())\n",
    "print(\"Processed Image pil Min:\", processed_image_pil.min())\n",
    "\n",
    "print(\"Processed Image nup Shape:\", processed_image_np.shape)\n",
    "print(\"Processed Image nup Max:\", processed_image_np.max())\n",
    "print(\"Processed Image nup Min:\", processed_image_np.min())\n",
    "\n",
    "print(\"Processed Image tensor Shape:\", processed_image_tensor.shape)\n",
    "print(\"Processed Image tensor Max:\", processed_image_tensor.max())\n",
    "print(\"Processed Image tensor Min:\", processed_image_tensor.min())\n",
    "pil_t = processed_image_pil[0].permute(1,2,0)\n",
    "np_t = processed_image_np[0].permute(1,2,0)\n",
    "tensor_t = processed_image_tensor[0].permute(1,2,0)\n",
    "\n",
    "print(\"PIL Image Size:\", pil_t.shape)\n",
    "print(\"Numpy Image Shape:\", np_t.shape)\n",
    "print(\"Tensor Image Shape:\", tensor_t.shape)\n",
    "\n",
    "plt.imshow(pil_t, cmap=\"gray\")\n",
    "plt.show()\n",
    "\n",
    "plt.imshow(np_t, cmap=\"gray\")\n",
    "plt.show()\n",
    "\n",
    "plt.imshow(tensor_t, cmap=\"gray\")\n",
    "plt.show()"
   ]
  },
  {
   "cell_type": "code",
   "execution_count": null,
   "metadata": {},
   "outputs": [],
   "source": [
    "pil_image = Image.open(\"../images/input/test1.png\").resize((256,256)).convert(\"L\")\n",
    "print(\"PIL Image Size:\", pil_image.size)\n",
    "print(\"PIL Image Mode:\", pil_image.mode)\n",
    "print(\"PIL Image Max:\", pil_image.getextrema()[1])\n",
    "\n",
    "np_image = np.array(pil_image)\n",
    "print(\"Numpy Image Shape:\", np_image.shape)\n",
    "print(\"Numpy Image Max:\", np_image.max())\n",
    "\n",
    "tensor_image = torch.from_numpy(np_image)\n",
    "print(\"Tensor Image Shape:\", tensor_image.shape)\n",
    "print(\"Tensor Image Max:\", tensor_image.max())"
   ]
  },
  {
   "cell_type": "code",
   "execution_count": null,
   "metadata": {},
   "outputs": [],
   "source": [
    "processed_image_pil = image_preprocess(image=pil_image, height=519, width=519, do_resize=False, do_normalize=False)\n",
    "processed_image_np = image_preprocess(image=np_image, height=519, width=519, do_resize=False, do_normalize=False)\n",
    "processed_image_tensor = image_preprocess(image=tensor_image, height=519, width=519, do_resize=False, do_normalize=False)\n",
    "\n",
    "print(\"Type of processed_image_pil:\", type(processed_image_pil))\n",
    "print(\"Type of processed_image_np:\", type(processed_image_np))\n",
    "print(\"Type of processed_image_tensor:\", type(processed_image_tensor))"
   ]
  },
  {
   "cell_type": "code",
   "execution_count": null,
   "metadata": {},
   "outputs": [],
   "source": [
    "print(\"Processed Image pil Shape:\", processed_image_pil.shape)\n",
    "print(\"Processed Image pil Max:\", processed_image_pil.max())\n",
    "print(\"Processed Image pil Min:\", processed_image_pil.min())\n",
    "\n",
    "print(\"Processed Image nup Shape:\", processed_image_np.shape)\n",
    "print(\"Processed Image nup Max:\", processed_image_np.max())\n",
    "print(\"Processed Image nup Min:\", processed_image_np.min())\n",
    "\n",
    "print(\"Processed Image tensor Shape:\", processed_image_tensor.shape)\n",
    "print(\"Processed Image tensor Max:\", processed_image_tensor.max())\n",
    "print(\"Processed Image tensor Min:\", processed_image_tensor.min())\n",
    "pil_t = processed_image_pil[0].permute(1,2,0)\n",
    "np_t = processed_image_np[0].permute(1,2,0)\n",
    "tensor_t = processed_image_tensor[0].permute(1,2,0)\n",
    "\n",
    "print(\"PIL Image Size:\", pil_t.shape)\n",
    "print(\"Numpy Image Shape:\", np_t.shape)\n",
    "print(\"Tensor Image Shape:\", tensor_t.shape)\n",
    "\n",
    "plt.imshow(pil_t, cmap=\"gray\")\n",
    "plt.show()\n",
    "\n",
    "plt.imshow(np_t, cmap=\"gray\")\n",
    "plt.show()\n",
    "\n",
    "plt.imshow(tensor_t, cmap=\"gray\")\n",
    "plt.show()"
   ]
  }
 ],
 "metadata": {
  "kernelspec": {
   "display_name": "Python 3.11.4 ('diff')",
   "language": "python",
   "name": "python3"
  },
  "language_info": {
   "codemirror_mode": {
    "name": "ipython",
    "version": 3
   },
   "file_extension": ".py",
   "mimetype": "text/x-python",
   "name": "python",
   "nbconvert_exporter": "python",
   "pygments_lexer": "ipython3",
   "version": "3.11.4"
  },
  "orig_nbformat": 4,
  "vscode": {
   "interpreter": {
    "hash": "63ee1a40d545eb9ed0dc670dd2dc022cb15a164f5c0cf5386c7575814bbda051"
   }
  }
 },
 "nbformat": 4,
 "nbformat_minor": 2
}
