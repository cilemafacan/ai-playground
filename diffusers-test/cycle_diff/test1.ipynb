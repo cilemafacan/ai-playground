{
 "cells": [
  {
   "cell_type": "code",
   "execution_count": null,
   "metadata": {},
   "outputs": [],
   "source": [
    "import torch\n",
    "\n",
    "from PIL import Image\n",
    "from io import BytesIO\n",
    "from diffusers import CycleDiffusionPipeline, DDIMScheduler"
   ]
  },
  {
   "cell_type": "code",
   "execution_count": null,
   "metadata": {},
   "outputs": [],
   "source": [
    "model_id_or_path = \"runwayml/stable-diffusion-v1-5\"\n",
    "scheduler = DDIMScheduler.from_pretrained(model_id_or_path, subfolder=\"scheduler\")\n",
    "pipe = CycleDiffusionPipeline.from_pretrained(model_id_or_path, scheduler=scheduler).to(\"cuda\")"
   ]
  },
  {
   "cell_type": "code",
   "execution_count": null,
   "metadata": {},
   "outputs": [],
   "source": [
    "init_image = Image.open(\"../../../1_media/input_images/cat.jpg\").convert(\"RGB\")\n",
    "\n",
    "source_prompt = \"A cat riding a horse\"\n",
    "prompt = \"A cat riding an elephant\"\n",
    "\n",
    "# call the pipeline\n",
    "image = pipe(prompt=prompt,\n",
    "             source_prompt=source_prompt,\n",
    "             image=init_image,\n",
    "             num_inference_steps=100,\n",
    "             eta=0.1,\n",
    "             strength=0.8,\n",
    "             guidance_scale=2,\n",
    "             source_guidance_scale=1).images[0]\n",
    "\n",
    "display(image)"
   ]
  }
 ],
 "metadata": {
  "kernelspec": {
   "display_name": "Python 3.10.12 64-bit",
   "language": "python",
   "name": "python3"
  },
  "language_info": {
   "codemirror_mode": {
    "name": "ipython",
    "version": 3
   },
   "file_extension": ".py",
   "mimetype": "text/x-python",
   "name": "python",
   "nbconvert_exporter": "python",
   "pygments_lexer": "ipython3",
   "version": "3.10.12"
  },
  "orig_nbformat": 4,
  "vscode": {
   "interpreter": {
    "hash": "916dbcbb3f70747c44a77c7bcd40155683ae19c65e1c03b4aa3499c5328201f1"
   }
  }
 },
 "nbformat": 4,
 "nbformat_minor": 2
}
