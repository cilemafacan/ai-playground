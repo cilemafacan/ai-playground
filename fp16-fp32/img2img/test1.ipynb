{
 "cells": [
  {
   "cell_type": "code",
   "execution_count": null,
   "metadata": {},
   "outputs": [],
   "source": [
    "import torch\n",
    "from PIL import Image\n",
    "from diffusers import StableDiffusionImg2ImgPipeline\n",
    "from diffusers import DPMSolverMultistepScheduler \n",
    "from diffusers import DiffusionPipeline"
   ]
  },
  {
   "cell_type": "code",
   "execution_count": null,
   "metadata": {},
   "outputs": [],
   "source": [
    "input_image_path = \"../../1_media/input_images/cat.jpg\"\n",
    "input_image = Image.open(input_image_path)\n",
    "print(\"Input Image Size: \", input_image.size)\n",
    "display(input_image)"
   ]
  },
  {
   "cell_type": "markdown",
   "metadata": {},
   "source": [
    "# FP32"
   ]
  },
  {
   "cell_type": "code",
   "execution_count": null,
   "metadata": {},
   "outputs": [],
   "source": [
    "pipe = StableDiffusionImg2ImgPipeline.from_pretrained(\"SimianLuo/LCM_Dreamshaper_v7\")\n",
    "pipe.to(\"cuda\", torch.float32)"
   ]
  },
  {
   "cell_type": "code",
   "execution_count": null,
   "metadata": {},
   "outputs": [],
   "source": [
    "generator = torch.Generator().manual_seed(40)\n",
    "out_fp32 = pipe(prompt= \"a beautiful pink cat\",\n",
    "                image=input_image,\n",
    "                num_inference_steps=50,\n",
    "                guidance_scale=8.0,\n",
    "                strength=0.7,\n",
    "                generator=generator\n",
    "                ).images[0]\n",
    "\n",
    "display(out_fp32)"
   ]
  },
  {
   "cell_type": "markdown",
   "metadata": {},
   "source": [
    "# FP16"
   ]
  },
  {
   "cell_type": "code",
   "execution_count": null,
   "metadata": {},
   "outputs": [],
   "source": [
    "pipe_fp16 = StableDiffusionImg2ImgPipeline.from_pretrained(\"SimianLuo/LCM_Dreamshaper_v7\")\n",
    "pipe_fp16 = pipe_fp16.to(\"cuda\", torch.float16)"
   ]
  },
  {
   "cell_type": "code",
   "execution_count": null,
   "metadata": {},
   "outputs": [],
   "source": [
    "generator = torch.Generator().manual_seed(40)\n",
    "out_fp16 = pipe_fp16(prompt= \"a beautiful pink cat\",\n",
    "                     image=input_image,\n",
    "                     num_inference_steps=50,\n",
    "                     strength=0.7,\n",
    "                     guidance_scale=8.0,\n",
    "                     generator=generator\n",
    "                     ).images[0]\n",
    "\n",
    "display(out_fp16)"
   ]
  }
 ],
 "metadata": {
  "kernelspec": {
   "display_name": "Python 3.10.12 64-bit",
   "language": "python",
   "name": "python3"
  },
  "language_info": {
   "codemirror_mode": {
    "name": "ipython",
    "version": 3
   },
   "file_extension": ".py",
   "mimetype": "text/x-python",
   "name": "python",
   "nbconvert_exporter": "python",
   "pygments_lexer": "ipython3",
   "version": "3.10.12"
  },
  "orig_nbformat": 4,
  "vscode": {
   "interpreter": {
    "hash": "916dbcbb3f70747c44a77c7bcd40155683ae19c65e1c03b4aa3499c5328201f1"
   }
  }
 },
 "nbformat": 4,
 "nbformat_minor": 2
}
