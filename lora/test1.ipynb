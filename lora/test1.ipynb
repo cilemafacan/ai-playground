{
 "cells": [
  {
   "cell_type": "markdown",
   "metadata": {},
   "source": [
    "## Image2Image LORA Test"
   ]
  },
  {
   "cell_type": "code",
   "execution_count": null,
   "metadata": {},
   "outputs": [],
   "source": [
    "import torch \n",
    "from diffusers import StableDiffusionXLImg2ImgPipeline\n",
    "from diffusers import DPMSolverMultistepScheduler\n",
    "from PIL import Image"
   ]
  },
  {
   "cell_type": "code",
   "execution_count": null,
   "metadata": {},
   "outputs": [],
   "source": [
    "models  = [\"stabilityai/stable-diffusion-xl-base-1.0\"]\n",
    "lora_model_path = [\"../../../../storage/sd_models/loras/h31k4l4XLP.safetensors\"]\n",
    "pipe = StableDiffusionXLImg2ImgPipeline.from_pretrained(models[0], safety_checker=None)\n",
    "pipe.scheduler = DPMSolverMultistepScheduler.from_config(pipe.scheduler.config)\n",
    "pipe.to(\"cuda\", torch_dtype=torch.float16)\n",
    "pipe.load_lora_weights(lora_model_path[0])\n"
   ]
  },
  {
   "cell_type": "code",
   "execution_count": null,
   "metadata": {},
   "outputs": [],
   "source": [
    "image = Image.open(\"../1_media/input_images/cat.jpg\")\n",
    "prompt = \"a beautiful pink cat\"\n",
    "gdc = 12\n",
    "strength = 0.5\n",
    "steps = 30"
   ]
  },
  {
   "cell_type": "code",
   "execution_count": null,
   "metadata": {},
   "outputs": [],
   "source": [
    "generator = torch.Generator().manual_seed(42)\n",
    "output = pipe(image=image, guidance_scale=gdc, strength=strength, num_inference_steps=steps, prompt=prompt, generator=generator).images[0]\n",
    "display(output)"
   ]
  }
 ],
 "metadata": {
  "kernelspec": {
   "display_name": "Python 3.10.12 ('deeplr')",
   "language": "python",
   "name": "python3"
  },
  "language_info": {
   "codemirror_mode": {
    "name": "ipython",
    "version": 3
   },
   "file_extension": ".py",
   "mimetype": "text/x-python",
   "name": "python",
   "nbconvert_exporter": "python",
   "pygments_lexer": "ipython3",
   "version": "3.10.12"
  },
  "orig_nbformat": 4,
  "vscode": {
   "interpreter": {
    "hash": "6ee4627a4c17c358e454dc07642658678ac6884506485624e3220e6043f82dcb"
   }
  }
 },
 "nbformat": 4,
 "nbformat_minor": 2
}
