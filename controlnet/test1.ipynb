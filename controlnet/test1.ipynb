{
 "cells": [
  {
   "cell_type": "code",
   "execution_count": null,
   "metadata": {},
   "outputs": [],
   "source": [
    "import torch\n",
    "import matplotlib.pyplot as plt\n",
    "from PIL import Image\n",
    "import os, sys\n",
    "current_dir = os.path.dirname(os.getcwd())\n",
    "up_dir = os.path.dirname(current_dir)\n",
    "sys.path.append(current_dir)\n",
    "sys.path.append(up_dir)\n",
    "from common_imports import *"
   ]
  },
  {
   "cell_type": "code",
   "execution_count": null,
   "metadata": {},
   "outputs": [],
   "source": [
    "controlnet_1 = ControlNetModel.from_pretrained(\"lllyasviel/control_v11f1p_sd15_depth\")\n",
    "\n",
    "pipe_control = StableDiffusionControlNetImg2ImgPipeline.from_pretrained(\"/home/sd_models/deliberate_v2/\", controlnet=controlnet_1)\n",
    "pipe_control.scheduler = DPMSolverMultistepScheduler.from_config(pipe_control.scheduler.config)\n",
    "pipe_control.to(\"cuda\", torch.float16)"
   ]
  },
  {
   "cell_type": "code",
   "execution_count": null,
   "metadata": {},
   "outputs": [],
   "source": [
    "input_image = Image.open(\"../media/input_images/167.png\")\n",
    "depth_image = Image.open(\"../media/input_images/depth.png\")\n",
    "fig, ax = plt.subplots(1, 2, figsize=(10, 5))\n",
    "ax[0].title.set_text(\"Input Image\")\n",
    "ax[0].imshow(input_image)\n",
    "ax[1].title.set_text(\"Depth Image\")\n",
    "ax[1].imshow(depth_image, cmap=\"gray\")"
   ]
  },
  {
   "cell_type": "code",
   "execution_count": null,
   "metadata": {},
   "outputs": [],
   "source": [
    "output_image = pipe_control(\n",
    "    prompt = \" \",\n",
    "    image=input_image,\n",
    "    control_image= depth_image,\n",
    "    height=input_image.height,\n",
    "    width=input_image.width,\n",
    "    num_inference_steps=25,\n",
    "    generator = torch.Generator(device=\"cuda\").manual_seed(42),\n",
    "    strength=0.8\n",
    ").images[0]\n",
    "\n",
    "fig, ax = plt.subplots(1, 3 , figsize=(15, 5))\n",
    "ax[0].title.set_text(\"Input Image\")\n",
    "ax[0].imshow(input_image)\n",
    "ax[1].title.set_text(\"Depth Image\")\n",
    "ax[1].imshow(depth_image, cmap=\"gray\")\n",
    "ax[2].title.set_text(\"Output Image\")\n",
    "ax[2].imshow(output_image)"
   ]
  }
 ],
 "metadata": {
  "kernelspec": {
   "display_name": "Python 3.10.12 64-bit",
   "language": "python",
   "name": "python3"
  },
  "language_info": {
   "codemirror_mode": {
    "name": "ipython",
    "version": 3
   },
   "file_extension": ".py",
   "mimetype": "text/x-python",
   "name": "python",
   "nbconvert_exporter": "python",
   "pygments_lexer": "ipython3",
   "version": "3.11.0"
  },
  "orig_nbformat": 4,
  "vscode": {
   "interpreter": {
    "hash": "916dbcbb3f70747c44a77c7bcd40155683ae19c65e1c03b4aa3499c5328201f1"
   }
  }
 },
 "nbformat": 4,
 "nbformat_minor": 2
}
