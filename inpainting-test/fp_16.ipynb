{
 "cells": [
  {
   "cell_type": "markdown",
   "metadata": {},
   "source": [
    "Modeli fp16 yüklediğimizde hız ne durumda?"
   ]
  },
  {
   "cell_type": "code",
   "execution_count": null,
   "metadata": {},
   "outputs": [],
   "source": [
    "import PIL\n",
    "import torch\n",
    "import numpy as np\n",
    "import matplotlib.pyplot as plt\n",
    "\n",
    "from PIL import Image, ImageDraw, ImageFilter\n",
    "from diffusers import StableDiffusionInpaintPipeline, DPMSolverMultistepScheduler"
   ]
  },
  {
   "cell_type": "code",
   "execution_count": null,
   "metadata": {},
   "outputs": [],
   "source": [
    "pipeline = StableDiffusionInpaintPipeline.from_pretrained(\"stabilityai/stable-diffusion-2-inpainting\")\n",
    "pipeline.scheduler = DPMSolverMultistepScheduler.from_config(pipeline.scheduler.config)\n",
    "pipeline = pipeline.to(\"cuda\", torch.float16)"
   ]
  },
  {
   "cell_type": "code",
   "execution_count": null,
   "metadata": {},
   "outputs": [],
   "source": [
    "tile_size = 768\n",
    "overlap = 256\n",
    "brush_size = 70\n",
    "num_inference_steps = 50\n",
    "strength = 0.99\n",
    "prompt = \" \"\n",
    "generator = torch.Generator().manual_seed(231874959)"
   ]
  },
  {
   "cell_type": "code",
   "execution_count": null,
   "metadata": {},
   "outputs": [],
   "source": [
    "def generate_mask(image, brush_size):\n",
    "    left = 0\n",
    "    right = image.width\n",
    "    top = (image.height * 0.5) - brush_size\n",
    "    bottom = (image.height * 0.5) + brush_size\n",
    "\n",
    "    mask = Image.new('L', (image.width, image.height), 0)\n",
    "    draw = ImageDraw.Draw(mask)\n",
    "\n",
    "    draw.rounded_rectangle([left, top, right, bottom], fill=255, radius=70)\n",
    "    return mask"
   ]
  },
  {
   "cell_type": "code",
   "execution_count": null,
   "metadata": {},
   "outputs": [],
   "source": [
    "input_image = Image.open('../1_media/input_images/cat.jpg').convert('RGB')\n",
    "input_image = input_image.resize((1280,768))\n",
    "input_mask = generate_mask(input_image, brush_size)\n",
    "\n",
    "plt.imshow(input_image)\n",
    "plt.show()\n",
    "\n",
    "plt.imshow(input_mask)\n",
    "plt.show()\n",
    "\n",
    "input_image = torch.from_numpy(np.array(input_image, np.float32).transpose(2,0,1))\n",
    "input_image = input_image / 127.5 - 1.0\n",
    "\n",
    "input_mask = torch.from_numpy(np.array(input_mask,np.float32)).unsqueeze(0)\n",
    "input_mask = input_mask / 255.0\n",
    "\n",
    "print(\"input_image.shape: \", input_image.shape)\n",
    "print(\"input_mask.shape: \", input_mask.shape)\n",
    "print(\"input_image.dtype: \", input_image.dtype)\n",
    "print(\"input_mask.dtype: \", input_mask.dtype)"
   ]
  },
  {
   "cell_type": "code",
   "execution_count": null,
   "metadata": {},
   "outputs": [],
   "source": [
    "tile_coords = [(0, 0, 768, 768), (512, 0, 1280, 768)]\n",
    "\n",
    "from PIL import ImageDraw\n",
    "p_im = Image.fromarray(((input_image.numpy() + 1 ) * 127.5).transpose(1,2,0).astype(np.uint8))\n",
    "draw = ImageDraw.Draw(p_im)\n",
    "for i in range(len(tile_coords)):\n",
    "    draw.rectangle(tile_coords[i], outline='red', width=10)\n",
    "\n",
    "    print(\"tile_width: \", tile_coords[i][2] - tile_coords[i][0])\n",
    "    print(\"tile_height: \", tile_coords[i][3] - tile_coords[i][1])\n",
    "\n",
    "p_im.save('p_im.png')\n",
    "plt.imshow(p_im)\n",
    "plt.show()"
   ]
  },
  {
   "cell_type": "code",
   "execution_count": null,
   "metadata": {},
   "outputs": [],
   "source": [
    "def apply_gauss_filter(mask_image: PIL.Image,\n",
    "                       kernel_size: int = 15,\n",
    "                       num_of_fill_pixels_x: int = 15,\n",
    "                       num_of_fill_pixels_y: int = 15):\n",
    "\n",
    "    np_mask_image = np.array(mask_image)\n",
    "    np_mask_image[:,:num_of_fill_pixels_x] = 0\n",
    "    np_mask_image[:num_of_fill_pixels_y,:] = 0\n",
    "    pil_mask_image = Image.fromarray((np_mask_image * 255.0).astype(np.uint8))\n",
    "    blurred_mask_image = pil_mask_image.filter(ImageFilter.GaussianBlur(radius=kernel_size))\n",
    "    blurred_mask_image = np.array(blurred_mask_image)\n",
    "    blurred_mask_image = torch.from_numpy(blurred_mask_image).unsqueeze(0).float()\n",
    "    blurred_mask_image = blurred_mask_image / 255.0\n",
    "    return blurred_mask_image"
   ]
  },
  {
   "cell_type": "code",
   "execution_count": null,
   "metadata": {},
   "outputs": [],
   "source": [
    "for tile_coord in tile_coords:\n",
    "    tile = input_image[:, tile_coord[1]:tile_coord[3], tile_coord[0]:tile_coord[2]]\n",
    "    tile_mask = input_mask[:, tile_coord[1]:tile_coord[3], tile_coord[0]:tile_coord[2]]\n",
    "\n",
    "    tile_output = pipeline(image=tile, \n",
    "                            mask_image=tile_mask, \n",
    "                            width=tile_size,\n",
    "                            height=tile_size,\n",
    "                            prompt=prompt, \n",
    "                            num_inference_steps=num_inference_steps, \n",
    "                            strength=strength, \n",
    "                            generator=generator,\n",
    "                            output_type=\"pt\").images[0]\n",
    "\n",
    "    m_g = apply_gauss_filter(mask_image=tile_mask.squeeze(0), kernel_size=15)\n",
    "    \n",
    "    tile_output = tile_output.cpu()\n",
    "    \n",
    "    output = (tile_output * 2.0 - 1) * m_g + tile * (1 - m_g)\n",
    "\n",
    "    input_image[:, tile_coord[1]:tile_coord[3], tile_coord[0]:tile_coord[2]] = output\n",
    "    "
   ]
  },
  {
   "cell_type": "code",
   "execution_count": null,
   "metadata": {},
   "outputs": [],
   "source": [
    "image_pt = (input_image.permute(1,2,0) + 1) * 127.5\n",
    "image_pt = image_pt.cpu().numpy()\n",
    "image_pt = image_pt.astype(np.uint8)\n",
    "shifted_image = Image.fromarray(image_pt)\n",
    "shifted_image.save('output.png')\n",
    "plt.imshow(shifted_image)\n",
    "plt.show()"
   ]
  }
 ],
 "metadata": {
  "kernelspec": {
   "display_name": "Python 3 (ipykernel)",
   "language": "python",
   "name": "python3"
  },
  "language_info": {
   "codemirror_mode": {
    "name": "ipython",
    "version": 3
   },
   "file_extension": ".py",
   "mimetype": "text/x-python",
   "name": "python",
   "nbconvert_exporter": "python",
   "pygments_lexer": "ipython3",
   "version": "3.10.12"
  },
  "orig_nbformat": 4,
  "vscode": {
   "interpreter": {
    "hash": "916dbcbb3f70747c44a77c7bcd40155683ae19c65e1c03b4aa3499c5328201f1"
   }
  }
 },
 "nbformat": 4,
 "nbformat_minor": 2
}
