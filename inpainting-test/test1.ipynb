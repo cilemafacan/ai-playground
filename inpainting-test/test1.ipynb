{
 "cells": [
  {
   "cell_type": "markdown",
   "metadata": {},
   "source": [
    "Bir desenden 4 farklı benzeri oluşturuldu, bu desenler uç uca eklenerek birleştirildi. Ardından inpaint ile araları onarıldı."
   ]
  },
  {
   "cell_type": "code",
   "execution_count": null,
   "metadata": {},
   "outputs": [],
   "source": [
    "import torch\n",
    "import numpy as np\n",
    "import matplotlib.pyplot as plt\n",
    "from PIL import Image, ImageDraw\n",
    "from diffusers import StableDiffusionInpaintPipeline, DPMSolverMultistepScheduler, StableDiffusionImg2ImgPipeline"
   ]
  },
  {
   "cell_type": "code",
   "execution_count": null,
   "metadata": {},
   "outputs": [],
   "source": [
    "imagine_pipe = StableDiffusionImg2ImgPipeline.from_pretrained(\"runwayml/stable-diffusion-v1-5\", safety_checker=None)\n",
    "imagine_pipe.scheduler = DPMSolverMultistepScheduler.from_config(imagine_pipe.scheduler.config)\n",
    "imagine_pipe.to(\"cuda\",torch.float16)\n",
    "seed = np.random.randint(0, np.iinfo(np.int64).max)\n",
    "generator = torch.Generator().manual_seed(seed)\n",
    "prompt = \"cute cat\"\n",
    "strength = 0.6\n",
    "num_inference_steps = 25\n",
    "\n",
    "# Load image\n",
    "image = Image.open(\"../1_media/input_images/cat.jpg\").convert(\"RGB\")\n",
    "image = image.resize((1024, 768), Image.BICUBIC)\n",
    "\n",
    "# show image\n",
    "plt.imshow(image)"
   ]
  },
  {
   "cell_type": "code",
   "execution_count": null,
   "metadata": {},
   "outputs": [],
   "source": [
    "# Run inference\n",
    "image = imagine_pipe(image=image,\n",
    "                     prompt=prompt,\n",
    "                     strength=strength,\n",
    "                     num_inference_steps=num_inference_steps,\n",
    "                     generator=generator,\n",
    "                     num_images_per_prompt = 4\n",
    ").images\n",
    "\n",
    "for i in range(len(image)):\n",
    "    image[i] = image[i].convert(\"RGB\")\n",
    "    image[i].save(f\"../1_media/input_images/cat_{i}.jpg\")\n",
    "\n",
    "\n",
    "# convert to numpy\n",
    "np_input_1 = np.array(image[0])\n",
    "np_input_2 = np.array(image[1])\n",
    "np_input_3 = np.array(image[2])\n",
    "np_input_4 = np.array(image[3])\n",
    "\n",
    "# plot\n",
    "fig, axs = plt.subplots(1, 4, figsize=(20, 20))\n",
    "axs[0].imshow(np_input_1)\n",
    "axs[1].imshow(np_input_2)\n",
    "axs[2].imshow(np_input_3)\n",
    "axs[3].imshow(np_input_4)"
   ]
  },
  {
   "cell_type": "code",
   "execution_count": null,
   "metadata": {},
   "outputs": [],
   "source": [
    "np_input = np.concatenate((np_input_1, np_input_2, np_input_3, np_input_4), axis=0)\n",
    "\n",
    "fig, ax = plt.subplots(figsize=(10, 10))\n",
    "ax.imshow(np_input)"
   ]
  },
  {
   "cell_type": "code",
   "execution_count": null,
   "metadata": {},
   "outputs": [],
   "source": [
    "# mask a 256 pixel wide area up and down from the intersections\n",
    "mask = np.zeros(np_input.shape[:2], dtype=np.uint8)\n",
    "mask = Image.fromarray(mask)\n",
    "draw = ImageDraw.Draw(mask)\n",
    "left1 = 0\n",
    "top1 = np_input_1.shape[0] - 128\n",
    "right1 = np_input.shape[1]\n",
    "bottom1 = np_input_1.shape[0] + 128\n",
    "\n",
    "left2 = 0\n",
    "top2 = np_input_1.shape[0] + np_input_2.shape[0] + np_input_3.shape[0] - 128\n",
    "right2 = np_input.shape[1]\n",
    "bottom2 = np_input_1.shape[0] + np_input_2.shape[0] + np_input_3.shape[0] + 128\n",
    "\n",
    "left3 = 0\n",
    "top3 = np_input_1.shape[0] + np_input_2.shape[0] - 128\n",
    "right3 = np_input.shape[1]\n",
    "bottom3 = np_input_1.shape[0] + np_input_2.shape[0] + 128\n",
    "\n",
    "draw.rounded_rectangle((left1, top1, right1, bottom1),\n",
    "                                        outline=None,\n",
    "                                        radius=150,\n",
    "                                        fill='white'\n",
    "                                        )\n",
    "draw.rounded_rectangle((left2, top2, right2, bottom2),\n",
    "                                        outline=None,\n",
    "                                        radius=150,\n",
    "                                        fill='white'\n",
    "                                        )\n",
    "draw.rounded_rectangle((left3, top3, right3, bottom3),\n",
    "                                        outline=None,\n",
    "                                        radius=150,\n",
    "                                        fill='white'\n",
    "                                        )\n",
    "\n",
    "                                        \n",
    "\"\"\" mask[top1:bottom1, left1:right1] = 1\n",
    "mask[top2:bottom2, left2:right2] = 1\n",
    "mask[top3:bottom3, left3:right3] = 1 \"\"\"\n",
    "\n",
    "# show mask\n",
    "print(\"Max\", np.max(mask), \"Min\", np.min(mask))\n",
    "fig, ax = plt.subplots(figsize=(10, 10))\n",
    "ax.imshow(mask)\n",
    "mask.save(\"../1_media/input_images/mask.png\")"
   ]
  },
  {
   "cell_type": "code",
   "execution_count": null,
   "metadata": {},
   "outputs": [],
   "source": [
    "pipe = StableDiffusionInpaintPipeline.from_pretrained(\"stabilityai/stable-diffusion-2-inpainting\")\n",
    "pipe.scheduler = DPMSolverMultistepScheduler.from_config(pipe.scheduler.config)\n",
    "pipe.to(\"cuda\", torch.float16)\n",
    "\n",
    "generator = torch.Generator().manual_seed(42)\n",
    "prompt = \"cute cat\"\n",
    "strength = 0.99\n",
    "num_inference_steps = 25\n",
    "\n",
    "# run inference\n",
    "out = pipe(prompt=prompt,\n",
    "           image=np_input,\n",
    "           mask_image=mask,\n",
    "           strength=strength,\n",
    "           width=np_input.shape[1],\n",
    "           height=np_input.shape[0],\n",
    "           num_inference_steps=num_inference_steps,\n",
    "           generator=generator).images[0]\n",
    "\n",
    "# show result\n",
    "fig, ax = plt.subplots(figsize=(10, 10))\n",
    "ax.imshow(out)\n"
   ]
  },
  {
   "cell_type": "code",
   "execution_count": null,
   "metadata": {},
   "outputs": [],
   "source": [
    "out.save(\"../1_media/input_images/test.png\")"
   ]
  }
 ],
 "metadata": {
  "kernelspec": {
   "display_name": "Python 3.10.12 64-bit",
   "language": "python",
   "name": "python3"
  },
  "language_info": {
   "codemirror_mode": {
    "name": "ipython",
    "version": 3
   },
   "file_extension": ".py",
   "mimetype": "text/x-python",
   "name": "python",
   "nbconvert_exporter": "python",
   "pygments_lexer": "ipython3",
   "version": "3.10.12"
  },
  "orig_nbformat": 4,
  "vscode": {
   "interpreter": {
    "hash": "31f2aee4e71d21fbe5cf8b01ff0e069b9275f58929596ceb00d14d90e3e16cd6"
   }
  }
 },
 "nbformat": 4,
 "nbformat_minor": 2
}
