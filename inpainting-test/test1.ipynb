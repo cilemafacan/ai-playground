{
 "cells": [
  {
   "cell_type": "markdown",
   "metadata": {},
   "source": [
    "Basit inpaint testi"
   ]
  },
  {
   "cell_type": "code",
   "execution_count": null,
   "metadata": {},
   "outputs": [],
   "source": [
    "import PIL\n",
    "import matplotlib.pyplot as plt\n",
    "import torch\n",
    "from diffusers import StableDiffusionInpaintPipeline\n",
    "\n",
    "img = \"../media/input_images/step_1_input_image.png\"\n",
    "mask = \"../media/input_images/step_1_masked_image.png\"\n",
    "\n",
    "img = PIL.Image.open(img)\n",
    "mask = PIL.Image.open(mask)\n",
    "\n",
    "\n",
    "pipe = StableDiffusionInpaintPipeline.from_pretrained(\n",
    "   \"stabilityai/stable-diffusion-2-inpainting\", torch_dtype=torch.float16\n",
    ")\n",
    "pipe = pipe.to(\"cuda\")\n",
    "\n",
    "prompt = \"A beautiful red rose flowers\"\n",
    "image = pipe(prompt=prompt, image=img, mask_image=mask, strength=0.8, guidance_scale=30, num_inference_steps=30, width=img.width, height=img.height).images[0]\n",
    "fig, ax = plt.subplots(1, 3, figsize=(15, 5))\n",
    "ax[0].title.set_text(\"Input Image\")\n",
    "ax[0].imshow(img)\n",
    "ax[1].title.set_text(\"Mask\")\n",
    "ax[1].imshow(mask)\n",
    "ax[2].title.set_text(\"Output Image\")\n",
    "ax[2].imshow(image)"
   ]
  }
 ],
 "metadata": {
  "kernelspec": {
   "display_name": "Python 3.10.12 64-bit",
   "language": "python",
   "name": "python3"
  },
  "language_info": {
   "codemirror_mode": {
    "name": "ipython",
    "version": 3
   },
   "file_extension": ".py",
   "mimetype": "text/x-python",
   "name": "python",
   "nbconvert_exporter": "python",
   "pygments_lexer": "ipython3",
   "version": "3.10.12"
  },
  "orig_nbformat": 4,
  "vscode": {
   "interpreter": {
    "hash": "916dbcbb3f70747c44a77c7bcd40155683ae19c65e1c03b4aa3499c5328201f1"
   }
  }
 },
 "nbformat": 4,
 "nbformat_minor": 2
}
