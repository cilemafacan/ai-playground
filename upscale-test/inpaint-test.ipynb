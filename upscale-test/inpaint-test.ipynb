{
 "cells": [
  {
   "cell_type": "code",
   "execution_count": 9,
   "metadata": {},
   "outputs": [],
   "source": [
    "import math\n",
    "from PIL import Image, ImageDraw, ImageOps\n",
    "import torch\n",
    "import numpy as np\n",
    "\n",
    "from diffusers import StableDiffusionInpaintPipeline,StableDiffusionPipeline"
   ]
  },
  {
   "cell_type": "code",
   "execution_count": 11,
   "metadata": {},
   "outputs": [
    {
     "name": "stderr",
     "output_type": "stream",
     "text": [
      "vae\\diffusion_pytorch_model.safetensors not found\n",
      "You have disabled the safety checker for <class 'diffusers.pipelines.stable_diffusion.pipeline_stable_diffusion_inpaint.StableDiffusionInpaintPipeline'> by passing `safety_checker=None`. Ensure that you abide to the conditions of the Stable Diffusion license and do not expose unfiltered results in services or applications open to the public. Both the diffusers team and Hugging Face strongly recommend to keep the safety filter enabled in all public facing circumstances, disabling it only for use-cases that involve analyzing network behavior or auditing its results. For more information, please have a look at https://github.com/huggingface/diffusers/pull/254 .\n"
     ]
    }
   ],
   "source": [
    "\n",
    "pipe = StableDiffusionInpaintPipeline.from_pretrained(\"digiplay/GhostMixV1.2VAE\", safety_checker=None)\n",
    "\n",
    "pipe = pipe.to(\"cuda\", torch_dtype=torch.float16)\n",
    "\n"
   ]
  },
  {
   "cell_type": "code",
   "execution_count": 12,
   "metadata": {},
   "outputs": [],
   "source": [
    "torch.cuda.empty_cache()\n",
    "image = Image.open(\"upscaler/input/0207.png\")\n",
    "mask = Image.open(\"upscaler/input/mask3.png\")\n",
    "mask = mask.convert(\"L\")\n",
    "prompt = \"flowers on red background insanely detailed\""
   ]
  },
  {
   "cell_type": "code",
   "execution_count": 15,
   "metadata": {},
   "outputs": [
    {
     "name": "stderr",
     "output_type": "stream",
     "text": [
      "100%|██████████| 5/5 [00:00<00:00,  8.97it/s]\n",
      "100%|██████████| 10/10 [00:00<00:00, 12.81it/s]\n",
      "100%|██████████| 15/15 [00:01<00:00, 14.04it/s]\n",
      "100%|██████████| 20/20 [00:01<00:00, 14.30it/s]\n",
      "100%|██████████| 25/25 [00:01<00:00, 14.34it/s]\n",
      "100%|██████████| 30/30 [00:02<00:00, 14.24it/s]\n",
      "100%|██████████| 35/35 [00:02<00:00, 14.46it/s]\n",
      "100%|██████████| 40/40 [00:02<00:00, 14.36it/s]\n",
      "100%|██████████| 45/45 [00:03<00:00, 14.10it/s]\n",
      "100%|██████████| 50/50 [00:03<00:00, 13.96it/s]\n"
     ]
    }
   ],
   "source": [
    "image = image.crop((0, 0, 64, 64))\n",
    "mask = mask.crop((0, 0, 64, 64))\n",
    "for i in range(1,11):\n",
    "    processed = pipe(prompt=prompt, image=image, mask_image=mask,width=64, height=64,\n",
    "    num_inference_steps=50, strength=0.1 * i).images[0]\n",
    "\n",
    "    processed.save(f\"processed{i}.png\")"
   ]
  }
 ],
 "metadata": {
  "kernelspec": {
   "display_name": "Python 3",
   "language": "python",
   "name": "python3"
  },
  "language_info": {
   "codemirror_mode": {
    "name": "ipython",
    "version": 3
   },
   "file_extension": ".py",
   "mimetype": "text/x-python",
   "name": "python",
   "nbconvert_exporter": "python",
   "pygments_lexer": "ipython3",
   "version": "3.10.7"
  },
  "orig_nbformat": 4
 },
 "nbformat": 4,
 "nbformat_minor": 2
}
