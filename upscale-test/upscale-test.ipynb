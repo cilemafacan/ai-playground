{
 "cells": [
  {
   "cell_type": "code",
   "execution_count": 1,
   "metadata": {},
   "outputs": [
    {
     "name": "stderr",
     "output_type": "stream",
     "text": [
      "F:\\Python\\Python310\\lib\\site-packages\\torchvision\\transforms\\functional_tensor.py:5: UserWarning: The torchvision.transforms.functional_tensor module is deprecated in 0.15 and will be **removed in 0.17**. Please don't rely on it. You probably just need to use APIs in torchvision.transforms.functional or in torchvision.transforms.v2.functional.\n",
      "  warnings.warn(\n"
     ]
    }
   ],
   "source": [
    "# 1. Upscale Image\n",
    "import os\n",
    "import glob\n",
    "import cv2\n",
    "import torch\n",
    "from basicsr.archs.rrdbnet_arch import RRDBNet\n",
    "from upscaler.utils.utils import RealESRGANer"
   ]
  },
  {
   "cell_type": "code",
   "execution_count": 3,
   "metadata": {},
   "outputs": [],
   "source": [
    "input_dir = 'upscaler/input' # input image or folder\n",
    "output_dir = 'upscaler/output'\n",
    "\n",
    "model_name = 'RealESRGAN_x4plus'\n",
    "model_path = 'upscaler/weights/RealESRGAN_x4plus.pth'\n",
    "\n",
    "\n",
    "dni_weight = None\n",
    "tile = 256\n",
    "tile_pad = 30\n",
    "pre_pad = 0\n",
    "half = False\n",
    "gpu_id = 0\n",
    "outscale = 2"
   ]
  },
  {
   "cell_type": "code",
   "execution_count": 4,
   "metadata": {},
   "outputs": [],
   "source": [
    "if model_name == 'RealESRGAN_x4plus':\n",
    "    model = RRDBNet(num_in_ch=3, num_out_ch=3, num_feat=64, num_block=23, num_grow_ch=32, scale=4)\n",
    "    netscale = 4\n",
    "    model = model.to(torch.device('cuda'))"
   ]
  },
  {
   "cell_type": "code",
   "execution_count": 5,
   "metadata": {},
   "outputs": [],
   "source": [
    "upsampler = RealESRGANer(\n",
    "    scale=netscale,\n",
    "    model_path=model_path,\n",
    "    dni_weight=dni_weight,\n",
    "    model=model,\n",
    "    tile=tile,\n",
    "    tile_pad=tile_pad,\n",
    "    pre_pad=pre_pad,\n",
    "    half=half,\n",
    "    gpu_id=gpu_id\n",
    ")"
   ]
  },
  {
   "cell_type": "code",
   "execution_count": 6,
   "metadata": {},
   "outputs": [],
   "source": [
    "if not os.path.exists(output_dir):\n",
    "    os.makedirs(output_dir)\n",
    "\n",
    "if os.path.isfile(input_dir):\n",
    "    paths = [input_dir]\n",
    "else:\n",
    "    paths = sorted(glob.glob(os.path.join(input_dir, '*')))"
   ]
  },
  {
   "cell_type": "code",
   "execution_count": 7,
   "metadata": {},
   "outputs": [],
   "source": [
    "def upscaler(path):\n",
    "    img_name, extension = os.path.splitext(os.path.basename(path))\n",
    "    print(f'Upscaling {img_name}.{extension}')\n",
    "    img = cv2.imread(path, cv2.IMREAD_UNCHANGED)\n",
    "    print(f'Image shape: {img.shape}')\n",
    "    output, _ = upsampler.enhance(img, outscale=outscale)    \n",
    "    save_path = os.path.join(output_dir, f'{img_name}{extension}')\n",
    "    cv2.imwrite(save_path, output)"
   ]
  },
  {
   "attachments": {},
   "cell_type": "markdown",
   "metadata": {},
   "source": [
    "Choose Image"
   ]
  },
  {
   "cell_type": "code",
   "execution_count": 9,
   "metadata": {},
   "outputs": [
    {
     "name": "stdout",
     "output_type": "stream",
     "text": [
      "Upscaling 06..png\n",
      "Image shape: (616, 1072, 3)\n",
      "\tTile 1/15\n",
      "\tTile 2/15\n",
      "\tTile 3/15\n",
      "\tTile 4/15\n",
      "\tTile 5/15\n",
      "\tTile 6/15\n",
      "\tTile 7/15\n",
      "\tTile 8/15\n",
      "\tTile 9/15\n",
      "\tTile 10/15\n",
      "\tTile 11/15\n",
      "\tTile 12/15\n",
      "\tTile 13/15\n",
      "\tTile 14/15\n",
      "\tTile 15/15\n"
     ]
    }
   ],
   "source": [
    "upscaler(\"upscaler/input/06.png\")"
   ]
  },
  {
   "attachments": {},
   "cell_type": "markdown",
   "metadata": {},
   "source": [
    "All Images"
   ]
  },
  {
   "cell_type": "code",
   "execution_count": null,
   "metadata": {},
   "outputs": [],
   "source": [
    "for idx, path in enumerate(paths):\n",
    "    imgname, extension = os.path.splitext(os.path.basename(path))\n",
    "    print('R-ESRGAN', idx, imgname)\n",
    "    upscaler(path)"
   ]
  },
  {
   "cell_type": "code",
   "execution_count": null,
   "metadata": {},
   "outputs": [],
   "source": [
    "# 2. Ultimate Upscale\n",
    "import math\n",
    "from PIL import Image, ImageDraw\n",
    "import torch\n",
    "import numpy as np\n",
    "\n",
    "from diffusers import StableDiffusionInpaintPipeline"
   ]
  },
  {
   "cell_type": "code",
   "execution_count": null,
   "metadata": {},
   "outputs": [],
   "source": [
    "tile_width = 512\n",
    "tile_height = 512\n",
    "padding = 32"
   ]
  },
  {
   "cell_type": "code",
   "execution_count": null,
   "metadata": {},
   "outputs": [],
   "source": [
    "pipe = StableDiffusionInpaintPipeline.from_pretrained(\"runwayml/stable-diffusion-inpainting\")\n",
    "\n",
    "pipe = pipe.to(\"cuda\", torch_dtype=torch.float16)\n",
    "\n",
    "prompt = \"a black background with a bunch of pink flowers on it and green leaves on the side of the image, fine foliage lace, Annabel Kidston, arts and crafts movement, a flemish Baroque\""
   ]
  },
  {
   "cell_type": "code",
   "execution_count": null,
   "metadata": {},
   "outputs": [],
   "source": [
    "def init_draw(width, height):\n",
    "        n_width = math.ceil((tile_width+padding) / 64) * 64\n",
    "        n_height = math.ceil((tile_height+padding) / 64) * 64\n",
    "        mask = Image.new(\"L\", (width, height), \"black\")\n",
    "        draw = ImageDraw.Draw(mask)\n",
    "        return mask, draw, n_width, n_height\n",
    "\n",
    "def calc_rectangle(xi, yi):\n",
    "    x1 = xi * tile_width\n",
    "    y1 = yi * tile_height\n",
    "    x2 = xi * tile_width + tile_width\n",
    "    y2 = yi * tile_height + tile_height\n",
    "\n",
    "    return x1, y1, x2, y2\n",
    "\n",
    "def linear_process(image, rows, cols):\n",
    "    p_img_list = []\n",
    "    print(\"Org Image Size: \", image.size)\n",
    "    mask, draw, n_width, n_height = init_draw(image.width, image.height)\n",
    "    for yi in range(rows):\n",
    "        for xi in range(cols):\n",
    "            draw.rectangle(calc_rectangle(xi, yi), fill=\"white\")\n",
    "            image_mask = mask\n",
    "            image_mask.save(f\"mask_{xi}_{yi}.png\")\n",
    "            coord = calc_rectangle(xi, yi)\n",
    "            c_image= image.crop(coord)\n",
    "            print(\"Crop Image Size: \", c_image.size)\n",
    "            c_image.save(f\"crop_{xi}_{yi}.png\")\n",
    "            processed = pipe(prompt=prompt, image=c_image, mask_image=image_mask, num_inference_steps=50, strength=0.3).images[0]\n",
    "            processed.save(f\"processed_{xi}_{yi}.png\")\n",
    "            draw.rectangle( calc_rectangle(xi, yi), fill=\"black\")\n",
    "            p_image = processed\n",
    "            p_img_list.append(p_image)\n",
    "\n",
    "\n",
    "    return p_img_list"
   ]
  },
  {
   "cell_type": "code",
   "execution_count": null,
   "metadata": {},
   "outputs": [],
   "source": [
    "image = Image.open(\"upscaler/output/pattern25.png\")\n",
    "image = image.convert(\"RGB\")\n",
    "image_list = linear_process(image, 2, 2)\n",
    "\n",
    "empty_image = Image.new(\"RGB\", (image.width, image.height), \"black\")\n",
    "for yi in range(2):\n",
    "    for xi in range(2):\n",
    "        coord = calc_rectangle(xi, yi)\n",
    "        empty_image.paste(image_list[yi*2+xi], box=coord)\n",
    "\n",
    "empty_image.save(\"output_image.png\")"
   ]
  }
 ],
 "metadata": {
  "kernelspec": {
   "display_name": "Python 3.11.3 ('deeplr')",
   "language": "python",
   "name": "python3"
  },
  "language_info": {
   "codemirror_mode": {
    "name": "ipython",
    "version": 3
   },
   "file_extension": ".py",
   "mimetype": "text/x-python",
   "name": "python",
   "nbconvert_exporter": "python",
   "pygments_lexer": "ipython3",
   "version": "3.10.7"
  },
  "orig_nbformat": 4,
  "vscode": {
   "interpreter": {
    "hash": "6ee4627a4c17c358e454dc07642658678ac6884506485624e3220e6043f82dcb"
   }
  }
 },
 "nbformat": 4,
 "nbformat_minor": 2
}
