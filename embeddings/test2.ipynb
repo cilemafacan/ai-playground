{
 "cells": [
  {
   "attachments": {},
   "cell_type": "markdown",
   "metadata": {},
   "source": [
    "# Transformers kütüphanesi kullanılarak CLIPTextModel ve CLIPTokenizer modelleri oluşturulur. \n",
    "\n",
    "    1) Tokenizer modeli kullanılarak verilen metinler tokenize edilir. \n",
    "    2) TextModel modeli kullanılarak tokenize edilen metinlerin görsel embedding vektörleri elde edilir."
   ]
  },
  {
   "cell_type": "code",
   "execution_count": null,
   "metadata": {},
   "outputs": [],
   "source": [
    "from diffusers import StableDiffusionPipeline"
   ]
  },
  {
   "cell_type": "code",
   "execution_count": null,
   "metadata": {},
   "outputs": [],
   "source": [
    "import torch\n",
    "\n",
    "from PIL import Image\n",
    "from transformers import CLIPTextModel, CLIPTokenizer"
   ]
  },
  {
   "cell_type": "code",
   "execution_count": null,
   "metadata": {},
   "outputs": [],
   "source": [
    "# Negative prompts embed eklenmedi, prompt embed test edilince eklenecek.\n",
    "def encode_prompt(tokenizer, text_encoder, prompt, device, negative_prompt=None):\n",
    "   \n",
    "    # Prompt tokenize\n",
    "    tokens = tokenizer(prompt, \n",
    "                       padding=False,\n",
    "                       truncation=False,\n",
    "                       return_tensors=\"pt\")\n",
    "    \n",
    "    print(\"Tokens:\", tokens, \"attention_mask hakkinda daha fazla bilgi icin: https://huggingface.co/transformers/glossary.html#attention-mask\")\n",
    "        \n",
    "    tokens_ids = tokens.input_ids\n",
    "    print(\"Tokens IDs:\", tokens_ids)\n",
    "\n",
    "    # to device\n",
    "    tokens_ids = tokens_ids.to(device)\n",
    "    text_encoder = text_encoder.eval().to(device)\n",
    "\n",
    "\n",
    "    # Prompt embeds\n",
    "    prompt_embeds = text_encoder(tokens_ids)\n",
    "    prompt_embeds = prompt_embeds[0]\n",
    "    print(\"Prompt Embeds:\", prompt_embeds)\n",
    "\n",
    "    return prompt_embeds"
   ]
  },
  {
   "cell_type": "code",
   "execution_count": null,
   "metadata": {},
   "outputs": [],
   "source": [
    "# Prompt Tokenize ve Embedding Test\n",
    "prompt = \"A photo of a cat\"\n",
    "device = \"cuda\" if torch.cuda.is_available() else \"cpu\"\n",
    "\n",
    "text_encoder = CLIPTextModel.from_pretrained(\"openai/clip-vit-large-patch14\")\n",
    "tokenizer = CLIPTokenizer.from_pretrained(\"openai/clip-vit-large-patch14\")\n",
    "\n",
    "embeds = encode_prompt(tokenizer, text_encoder, prompt, device)\n",
    "print(\"Embeds:\", embeds)"
   ]
  },
  {
   "cell_type": "code",
   "execution_count": null,
   "metadata": {},
   "outputs": [],
   "source": [
    "pipe = StableDiffusionPipeline.from_pretrained(\"runwayml/stable-diffusion-v1-5\", safety_checker=None)\n",
    "pipe = pipe.to(\"cuda\", torch.float16)\n",
    "\n",
    "generator = torch.Generator(device=\"cuda\").manual_seed(50)\n",
    "generated = pipe(prompt_embeds=embeds,\n",
    "                generator=generator,\n",
    "                num_inference_steps = 20,\n",
    "                height = 512,\n",
    "                width = 512,            \n",
    "                guidance_scale = 8).images[0]\n",
    "\n",
    "display(generated)"
   ]
  }
 ],
 "metadata": {
  "kernelspec": {
   "display_name": "diff",
   "language": "python",
   "name": "python3"
  },
  "language_info": {
   "codemirror_mode": {
    "name": "ipython",
    "version": 3
   },
   "file_extension": ".py",
   "mimetype": "text/x-python",
   "name": "python",
   "nbconvert_exporter": "python",
   "pygments_lexer": "ipython3",
   "version": "3.10.12"
  },
  "orig_nbformat": 4,
  "vscode": {
   "interpreter": {
    "hash": "63ee1a40d545eb9ed0dc670dd2dc022cb15a164f5c0cf5386c7575814bbda051"
   }
  }
 },
 "nbformat": 4,
 "nbformat_minor": 2
}
