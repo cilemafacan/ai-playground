{
 "cells": [
  {
   "cell_type": "code",
   "execution_count": null,
   "metadata": {},
   "outputs": [],
   "source": [
    "import os, sys\n",
    "current_dir = os.path.dirname(os.getcwd())\n",
    "sys.path.append(current_dir)\n",
    "from common_imports import *"
   ]
  },
  {
   "cell_type": "code",
   "execution_count": null,
   "metadata": {},
   "outputs": [],
   "source": [
    "models = os.listdir(diffusers_models_path)\n",
    "print(models)\n",
    "model_path = os.path.join(diffusers_models_path, models[1])\n",
    "device = \"cuda\"\n",
    "pipe = StableDiffusionPipeline.from_pretrained(model_path, safety_checker=None)\n",
    "pipe = pipe.to(device, torch.float16)\n",
    "# print pytorch version\n",
    "print(torch.__version__)"
   ]
  },
  {
   "cell_type": "code",
   "execution_count": null,
   "metadata": {},
   "outputs": [],
   "source": [
    "def get_embed(prompt):\n",
    "    tokens = pipe.tokenizer.tokenize(prompt)\n",
    "    print(tokens)\n",
    "    text_inputs = pipe.tokenizer(\n",
    "                prompt,\n",
    "                padding=\"max_length\",\n",
    "                max_length=pipe.tokenizer.model_max_length,\n",
    "                truncation=True,\n",
    "                return_tensors=\"pt\",\n",
    "            )    \n",
    "    prompt_embeds = pipe.text_encoder(\n",
    "                text_inputs.input_ids.to(device))\n",
    "    return prompt_embeds[0]"
   ]
  },
  {
   "cell_type": "code",
   "execution_count": null,
   "metadata": {},
   "outputs": [],
   "source": [
    "\n",
    "prompt = \"solid blue ball aesthetic\"\n",
    "neg_prompt = \"\"\n",
    "\n",
    "cond_emb = get_embed(prompt)\n",
    "uncond_emb = get_embed(neg_prompt)\n",
    "\n",
    "print(cond_emb.min(), cond_emb.max())\n",
    "\n",
    "norm_cond_emb = (cond_emb - cond_emb.min()) / (cond_emb.max() - cond_emb.min())\n",
    "print(norm_cond_emb.min(), norm_cond_emb.max())\n",
    "#plot cond_emb[0]\n",
    "\n",
    "emd = norm_cond_emb[0].cpu().detach().numpy()\n",
    "emd = emd[0:5].reshape(5,24,32)\n",
    "\n",
    "\n",
    "#print(emd[0,19])\n",
    "#print(emd[21,9])\n",
    "# add title\n",
    "plt.figure(figsize=(15,5))\n",
    "for i in range(emd.shape[0]):\n",
    "    plt.subplot(2,4,i+1)\n",
    "    plt.imshow(emd[i], cmap='gray')\n",
    "    plt.title(f\"Embedding {i}\")\n",
    "plt.show()"
   ]
  },
  {
   "cell_type": "code",
   "execution_count": null,
   "metadata": {},
   "outputs": [],
   "source": [
    "cond_emb = get_embed(prompt)\n",
    "print(cond_emb.shape)\n",
    "print(cond_emb.min(), cond_emb.max())\n",
    "#cond_emb[0,9:77,0:768] = 0\n",
    "#cond_emb[0,19,0] = 1.0\n",
    "generator = torch.Generator(device=\"cuda\").manual_seed(30)\n",
    "image = pipe(prompt_embeds=cond_emb,\n",
    "             generator=generator,\n",
    "             num_inference_steps = 20,\n",
    "             height = 512,\n",
    "             width = 512,        \n",
    "             guidance_scale = 10).images[0]\n",
    "#plot the image\n",
    "plt.figure(figsize=(4,6))\n",
    "plt.imshow(image, interpolation=\"sinc\")\n",
    "plt.show()\n"
   ]
  }
 ],
 "metadata": {
  "kernelspec": {
   "display_name": "Python 3.10.12 64-bit",
   "language": "python",
   "name": "python3"
  },
  "language_info": {
   "codemirror_mode": {
    "name": "ipython",
    "version": 3
   },
   "file_extension": ".py",
   "mimetype": "text/x-python",
   "name": "python",
   "nbconvert_exporter": "python",
   "pygments_lexer": "ipython3",
   "version": "3.10.12"
  },
  "orig_nbformat": 4,
  "vscode": {
   "interpreter": {
    "hash": "916dbcbb3f70747c44a77c7bcd40155683ae19c65e1c03b4aa3499c5328201f1"
   }
  }
 },
 "nbformat": 4,
 "nbformat_minor": 2
}
