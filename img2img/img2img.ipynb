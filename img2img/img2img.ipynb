{
 "cells": [
  {
   "cell_type": "code",
   "execution_count": null,
   "metadata": {},
   "outputs": [],
   "source": [
    "import os,sys\n",
    "current_dir = os.path.dirname(os.getcwd())\n",
    "updir = os.path.dirname(current_dir)\n",
    "sys.path.append(updir)\n",
    "from common_imports import *"
   ]
  },
  {
   "cell_type": "code",
   "execution_count": null,
   "metadata": {},
   "outputs": [],
   "source": [
    "image = Image.open(\"../../media/training_images/100_lora paisey_1024/19-5539.png\").convert(\"RGB\")\n",
    "image.show()\n",
    "image.size"
   ]
  },
  {
   "cell_type": "code",
   "execution_count": null,
   "metadata": {},
   "outputs": [],
   "source": [
    "prompt = \"masterpiece, high resolution, ultra detailed\"\n",
    "negative_prompt = \"lowres, extra digit, fewer digits, cropped, worst quality, low quality, text, word, icon, logo, hands, fingers, feet, face, eyes, anime, women, man, nude\""
   ]
  },
  {
   "cell_type": "code",
   "execution_count": null,
   "metadata": {},
   "outputs": [],
   "source": [
    "pipe = StableDiffusionImg2ImgPipeline.from_pretrained(\"AITSIS/imagine-v1\", torch_dtype = torch.float16)\n",
    "pipe = pipe.to(\"cuda:2\")"
   ]
  },
  {
   "cell_type": "code",
   "execution_count": null,
   "metadata": {},
   "outputs": [],
   "source": [
    "pipe.scheduler = DPMSolverMultistepScheduler.from_config(pipe.scheduler.config)\n",
    "#pipe.load_lora_weights(\"/mnt/storage/sd_models/loras\", weight_name=\"more_detail_cvai.safetensors\")"
   ]
  },
  {
   "cell_type": "code",
   "execution_count": null,
   "metadata": {},
   "outputs": [],
   "source": [
    "seed = np.random.randint(0, np.iinfo(np.int64).max)\n",
    "generator = torch.Generator().manual_seed(52489675)\n",
    "\n",
    "output = pipe(image=image,\n",
    "              prompt=prompt,\n",
    "              negative_prompt=negative_prompt,\n",
    "              num_inference_steps=50,\n",
    "              generator=generator,\n",
    "              strength=0.5,\n",
    "              guidance_scale=15).images[0]\n",
    "\n",
    "display(output)"
   ]
  },
  {
   "cell_type": "code",
   "execution_count": null,
   "metadata": {},
   "outputs": [],
   "source": []
  }
 ],
 "metadata": {
  "kernelspec": {
   "display_name": "Python 3",
   "language": "python",
   "name": "python3"
  },
  "language_info": {
   "codemirror_mode": {
    "name": "ipython",
    "version": 3
   },
   "file_extension": ".py",
   "mimetype": "text/x-python",
   "name": "python",
   "nbconvert_exporter": "python",
   "pygments_lexer": "ipython3",
   "version": "3.11.0"
  }
 },
 "nbformat": 4,
 "nbformat_minor": 2
}
