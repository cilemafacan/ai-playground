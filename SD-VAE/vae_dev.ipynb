{
 "cells": [
  {
   "cell_type": "code",
   "execution_count": null,
   "metadata": {},
   "outputs": [],
   "source": [
    "import os\n",
    "import torch\n",
    "import torchvision\n",
    "import math\n",
    "import numpy as np\n",
    "from PIL import Image\n",
    "from diffusers import AutoencoderKL"
   ]
  },
  {
   "cell_type": "code",
   "execution_count": null,
   "metadata": {},
   "outputs": [],
   "source": [
    "pipe = AutoencoderKL.from_pretrained(\"runwayml/stable-diffusion-v1-5\", subfolder=\"vae\", torch_type=torch.float16)\n",
    "pipe.to(\"cuda:1\", torch.float16)"
   ]
  },
  {
   "cell_type": "code",
   "execution_count": null,
   "metadata": {},
   "outputs": [],
   "source": [
    "def add_padding(torch_image, patch_size):\n",
    "    tile_count_x = math.ceil(torch_image.shape[2] / patch_size)\n",
    "    tile_count_y = math.ceil(torch_image.shape[1] / patch_size)\n",
    "    new_width = tile_count_x * patch_size\n",
    "    new_height = tile_count_y * patch_size\n",
    "    pad_size_x = new_width - torch_image.shape[2]\n",
    "    pad_size_y = new_height - torch_image.shape[1]\n",
    "    torch_image = torch.nn.functional.pad(torch_image, (0, pad_size_x, 0, pad_size_y), mode=\"reflect\", value=0)\n",
    "    return torch_image"
   ]
  },
  {
   "cell_type": "code",
   "execution_count": null,
   "metadata": {},
   "outputs": [],
   "source": [
    "def remove_pads(torch_image, output_image):\n",
    "    input_width = torch_image.shape[2]\n",
    "    input_height = torch_image.shape[1]\n",
    "    output = output_image[:, :input_height, :input_width]\n",
    "    return output"
   ]
  },
  {
   "cell_type": "code",
   "execution_count": null,
   "metadata": {},
   "outputs": [],
   "source": [
    "def create_pathes(torch_image, patch_size):\n",
    "    print(torch_image.shape)\n",
    "    image_width = torch_image.shape[2]\n",
    "    image_height = torch_image.shape[1]\n",
    "    patch_size = patch_size\n",
    "    stride = patch_size\n",
    "    pathes = []\n",
    "    for x in range(0, image_width, stride):\n",
    "        for y in range(0, image_height, stride):\n",
    "            pathes.append(torch_image[:, y:y+patch_size, x:x+patch_size])\n",
    "    return pathes"
   ]
  },
  {
   "cell_type": "code",
   "execution_count": null,
   "metadata": {},
   "outputs": [],
   "source": [
    "def merge_pathes(pathes, padded_image_width, padded_image_height, patch_size):\n",
    "    stride = patch_size\n",
    "    output_image = torch.zeros((3, padded_image_height, padded_image_width))\n",
    "    for i, x in enumerate(range(0, padded_image_width, stride)):\n",
    "        for j, y in enumerate(range(0, padded_image_height, stride)):\n",
    "            output_image[:, y:y+patch_size, x:x+patch_size] = pathes[i*padded_image_height//stride+j]\n",
    "    return output_image"
   ]
  },
  {
   "cell_type": "code",
   "execution_count": null,
   "metadata": {},
   "outputs": [],
   "source": [
    "image = Image.open(\"../1_media/input_images/cat.jpg\").convert(\"RGB\")\n",
    "transformed_image = torchvision.transforms.ToTensor()(image)\n",
    "padded_image = add_padding(transformed_image, 1024)\n",
    "patches = create_pathes(padded_image, 1024)"
   ]
  },
  {
   "cell_type": "code",
   "execution_count": null,
   "metadata": {},
   "outputs": [],
   "source": [
    "latents = []\n",
    "decodeds = []\n",
    "for patch in patches:\n",
    "    patch = patch.unsqueeze(0) * 2 - 1\n",
    "    patch = patch.to(\"cuda:1\", torch.float16)\n",
    "    latent = pipe.encode(patch).latent_dist.sample()  * 0.18215\n",
    "    latents.append(latent.detach().cpu())\n",
    "    latent_ = 1 / 0.18215 * latent\n",
    "    decoded = pipe.decode(latent_)\n",
    "    decoded = (decoded.sample / 2 + 0.5).clamp(0,1)\n",
    "    decoded = decoded.detach().cpu().squeeze(0)\n",
    "    decodeds.append(decoded)\n",
    "    del patch\n",
    "    del latent\n",
    "    del decoded\n",
    "    torch.cuda.empty_cache()"
   ]
  },
  {
   "cell_type": "code",
   "execution_count": null,
   "metadata": {},
   "outputs": [],
   "source": [
    "tensor_output = merge_pathes(decodeds, padded_image.shape[2], padded_image.shape[1], 1024)\n",
    "output = remove_pads(transformed_image, tensor_output)\n",
    "output = torchvision.transforms.ToPILImage()(output)\n",
    "output.show()"
   ]
  },
  {
   "cell_type": "code",
   "execution_count": null,
   "metadata": {},
   "outputs": [],
   "source": [
    "import gc\n",
    "torch.cuda.empty_cache()\n",
    "gc.collect()"
   ]
  },
  {
   "cell_type": "code",
   "execution_count": null,
   "metadata": {},
   "outputs": [],
   "source": [
    "from diffusers import UNet2DConditionModel, DPMSolverMultistepScheduler, LMSDiscreteScheduler\n",
    "\n",
    "scheduler = DPMSolverMultistepScheduler.from_config(\"runwayml/stable-diffusion-v1-5\", subfolder=\"scheduler\", torch_type=torch.float16)\n",
    "scheduler.set_timesteps(51)\n",
    "unet = UNet2DConditionModel.from_pretrained(\"runwayml/stable-diffusion-v1-5\", subfolder=\"unet\", torch_type=torch.float16)\n",
    "unet.to(\"cuda:1\", torch.float16)"
   ]
  },
  {
   "cell_type": "code",
   "execution_count": null,
   "metadata": {},
   "outputs": [],
   "source": [
    "import matplotlib.pyplot as plt\n",
    "for latent in latents:\n",
    "    noise = torch.randn_like(latent)\n",
    "    fig, axs = plt.subplots(3, 2, figsize=(16, 32))\n",
    "\n",
    "    for c, sampling_step in enumerate(range(0, 51 , 10)):\n",
    "        print(sampling_step)\n",
    "        encoded_and_noised = scheduler.add_noise(latent, noise, timesteps=torch.tensor([scheduler.timesteps[sampling_step]]))\n",
    "\n",
    "        encoded_and_noised_ = 1 / 0.18215 * encoded_and_noised       \n",
    "        decoded = pipe.decode(encoded_and_noised_.to(\"cuda:1\", torch.float16))\n",
    "        decoded = (decoded.sample / 2 + 0.5).clamp(0,1).squeeze(0)\n",
    "        decoded = decoded.detach().cpu().permute(1,2,0).numpy()\n",
    "        decoded_image = Image.fromarray((decoded * 255).astype(np.uint8))\n",
    "\n",
    "        axs[c//2][c%2].imshow(decoded_image)\n",
    "        axs[c//2][c%2].set_title(f\"Step - {sampling_step}\")\n",
    "        del encoded_and_noised\n",
    "        del encoded_and_noised_\n",
    "        torch.cuda.empty_cache()"
   ]
  },
  {
   "cell_type": "code",
   "execution_count": null,
   "metadata": {},
   "outputs": [],
   "source": [
    "noised_latents = []\n",
    "for latent in latents:\n",
    "    fig, axs = plt.subplots(1, 1, figsize=(16, 8))\n",
    "    noise = torch.randn_like(latent)\n",
    "    noised_latent = scheduler.add_noise(latent, noise, timesteps=torch.tensor([scheduler.timesteps[35]]))\n",
    "\n",
    "    noised_latent_ = 1 / 0.18215 * noised_latent\n",
    "    decoded = pipe.decode(noised_latent_.to(\"cuda:1\", torch.float16))\n",
    "    decoded = (decoded.sample / 2 + 0.5).clamp(0,1).squeeze(0)\n",
    "    decoded = decoded.detach().cpu().permute(1,2,0).numpy()\n",
    "    decoded_image = Image.fromarray((decoded * 255).astype(np.uint8))\n",
    "    decoded_image.save(\"0.png\")\n",
    "    \n",
    "    noised_latents.append(noised_latent.detach().cpu())\n",
    "    axs.imshow(decoded_image)\n",
    "    del noise\n",
    "    del noised_latent_\n",
    "    del noised_latent\n",
    "    del decoded\n",
    "    torch.cuda.empty_cache()\n",
    "    break"
   ]
  },
  {
   "cell_type": "code",
   "execution_count": null,
   "metadata": {},
   "outputs": [],
   "source": [
    "from transformers import CLIPTextModel, CLIPTokenizer\n",
    "\n",
    "tokenizer = CLIPTokenizer.from_pretrained(\"runwayml/stable-diffusion-v1-5\", subfolder=\"tokenizer\", torch_dtype=torch.float16)\n",
    "text_encoder = CLIPTextModel.from_pretrained(\"runwayml/stable-diffusion-v1-5\", subfolder=\"text_encoder\", torch_dtype=torch.float16).to(\"cuda:1\")"
   ]
  },
  {
   "cell_type": "code",
   "execution_count": null,
   "metadata": {},
   "outputs": [],
   "source": [
    "prompt = [\"\"]\n",
    "text_input = tokenizer(prompt, padding=\"max_length\", max_length=tokenizer.model_max_length, truncation=True, return_tensors=\"pt\")\n",
    "with torch.no_grad(): \n",
    "    text_embeddings = text_encoder(\n",
    "        text_input.input_ids.to(\"cuda:1\")\n",
    "    )[0]\n",
    "\n",
    "latent = noised_latents[0].to(\"cuda:1\", torch.float16)\n",
    "\n",
    "latent_model_input = torch.cat([latent])\n",
    "\n",
    "with torch.no_grad():\n",
    "    noise_pred = unet(latent_model_input,\n",
    "                     35,\n",
    "                    encoder_hidden_states=text_embeddings\n",
    "    )[\"sample\"]\n",
    "\n",
    "latent_model_input = latent - noise_pred\n",
    "\n",
    "noise_pred = 1 / 0.18215 * latent_model_input\n",
    "decoded = pipe.decode(noise_pred.to(\"cuda:1\", torch.float16))\n",
    "decoded = (decoded.sample / 2 + 0.5).clamp(0,1).squeeze(0)\n",
    "decoded = decoded.detach().cpu().permute(1,2,0).numpy()\n",
    "decoded_image = Image.fromarray((decoded * 255).astype(np.uint8))\n",
    "decoded_image.save(\"0_denoised.png\")\n",
    "decoded_image.show()"
   ]
  },
  {
   "cell_type": "code",
   "execution_count": null,
   "metadata": {},
   "outputs": [],
   "source": [
    "def text_enc(prompts, maxlen=None):\n",
    "\n",
    "    if maxlen is None: \n",
    "        maxlen = tokenizer.model_max_length\n",
    "    inp = tokenizer(prompts, padding=\"max_length\", max_length=maxlen, truncation=True, return_tensors=\"pt\") \n",
    "    return text_encoder(inp.input_ids.to(\"cuda:1\"))[0].half()"
   ]
  },
  {
   "cell_type": "code",
   "execution_count": null,
   "metadata": {},
   "outputs": [],
   "source": [
    "from tqdm import tqdm\n",
    "prompt = [\" \"]\n",
    "negative_prompt = [\"lowres, extra digit, fewer digits, cropped, worst quality, low quality, text, word, icon, logo, hands, fingers, feet, face, eyes, anime, women, man, nude\"]\n",
    "guidance_scale = 5\n",
    "\n",
    "batch_size = len(prompt)\n",
    "\n",
    "text = text_enc(prompt)\n",
    "uncond = text_enc(negative_prompt * batch_size, text.shape[1])\n",
    "del text_encoder\n",
    "emb = torch.cat([uncond, text])\n",
    "\n",
    "scheduler.set_timesteps(51)\n",
    "\n",
    "noised_latent = noised_latents[0]\n",
    "noised_latent = noised_latent.to(\"cuda:1\", torch.float16) * scheduler.init_noise_sigma\n",
    "print(\"Noised Latent Shape:\", noised_latent.shape)\n",
    "\n",
    "for i, time_step in enumerate(tqdm(scheduler.timesteps)):\n",
    "    #inp = scheduler.scale_model_input(torch.cat([noised_latent] * 2), time_step)\n",
    "    with torch.no_grad():\n",
    "        noise_pred= unet(noised_latent,\n",
    "                             time_step,\n",
    "                             encoder_hidden_states=text).sample\n",
    "\n",
    "    #pred = noise_pred + guidance_scale * (t - noise_pred)\n",
    "    noised_latent = scheduler.step(noise_pred, time_step, noised_latent).prev_sample\n",
    "\n",
    "    noised_latent_ = 1 / 0.18215 * noised_latent\n",
    "    decoded = pipe.decode(noised_latent_)\n",
    "    decoded = (decoded.sample / 2 + 0.5).clamp(0,1).squeeze(0)\n",
    "    decoded = decoded.detach().cpu().permute(1,2,0).numpy()\n",
    "    decoded_image = Image.fromarray((decoded * 255).astype(np.uint8))\n",
    "    if not os.path.exists(f'./steps'):\n",
    "        os.mkdir(f'./steps')\n",
    "    decoded_image.save(f'./steps/{i}.png')\n",
    "        \n",
    "    del noise_pred\n",
    "    del decoded\n",
    "    torch.cuda.empty_cache()"
   ]
  },
  {
   "cell_type": "code",
   "execution_count": null,
   "metadata": {},
   "outputs": [],
   "source": [
    "decoded_image.show()"
   ]
  },
  {
   "cell_type": "code",
   "execution_count": null,
   "metadata": {},
   "outputs": [],
   "source": []
  }
 ],
 "metadata": {
  "kernelspec": {
   "display_name": "Python 3",
   "language": "python",
   "name": "python3"
  },
  "language_info": {
   "codemirror_mode": {
    "name": "ipython",
    "version": 3
   },
   "file_extension": ".py",
   "mimetype": "text/x-python",
   "name": "python",
   "nbconvert_exporter": "python",
   "pygments_lexer": "ipython3",
   "version": "3.10.12"
  },
  "orig_nbformat": 4,
  "vscode": {
   "interpreter": {
    "hash": "31f2aee4e71d21fbe5cf8b01ff0e069b9275f58929596ceb00d14d90e3e16cd6"
   }
  }
 },
 "nbformat": 4,
 "nbformat_minor": 2
}
